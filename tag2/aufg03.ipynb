{
  "cells": [
    {
      "cell_type": "markdown",
      "id": "e3ab5b24-97ad-427a-be22-d095b7f974d0",
      "metadata": {},
      "source": [
        "**\u00dcbung Mustererkennung** *WS 2022/23* -- *K. Brandenbusch,  Gernot A. Fink* -- *Technische Universit\u00e4t Dortmund, Lehrstuhl XII, Mustererkennung in eingebetteten Systemen*\n",
        "___\n",
        "# Aufgabe 3: Vektorquantisierung zur Initialisierung eines Verteilungsmodells\n",
        "\n",
        "Statt einer Normalverteilung pro Klasse bietet es sich h\u00e4ufig an, mehrere Verteilungen vorzusehen. Daf\u00fcr ist es notwendig, geeignete Verteilungen im Datenraum zu ermitteln.\n",
        "F\u00fcr eine Initialisierung dieser Verteilungen bietet es sich an, die Daten zu Clustern. Anschlie\u00dfend kann f\u00fcr jedes Cluster eine Verteilung gesch\u00e4tzt werden.\n",
        "\n",
        "In dieser Aufgabe sollen Sie den Algorithmus von Lloyd zur Vektorquantieisrung implementieren. Optional k\u00f6nnen Sie zus\u00e4tzlich auf den $k$-means-Algorithmus nach McQueen implementieren.\n",
        "***"
      ]
    },
    {
      "cell_type": "markdown",
      "id": "7621b883-cf42-45db-81d7-e8e1426196ad",
      "metadata": {},
      "source": [
        "Zuerst m\u00fcssen die ben\u00f6tigten Module importiert werden."
      ]
    },
    {
      "cell_type": "code",
      "execution_count": 0,
      "id": "c1259032-a43c-4d50-946d-92d61f4d5b99",
      "metadata": {},
      "outputs": [],
      "source": [
        "%load_ext autoreload\n",
        "%autoreload 2\n",
        "%matplotlib widget\n",
        "\n",
        "import sys\n",
        "from matplotlib import cm\n",
        "import matplotlib.pyplot as plt\n",
        "import numpy as np\n",
        "from scipy.spatial.distance import cdist\n",
        "\n",
        "# Uebergeordneten Ordner zum Pfad hinzufuegen, damit das common Package importiert werden kann\n",
        "if '..' not in sys.path:\n",
        "    sys.path.append('..')\n",
        "\n",
        "from common import visualization\n",
        "from common.data_provider import DataProvider"
      ]
    },
    {
      "cell_type": "markdown",
      "id": "7aaa7923-e5ff-4ec2-b1d3-c622ab7f5d84",
      "metadata": {},
      "source": [
        "---\n",
        "## Visualisierung der Trainingsdaten\n",
        "\n",
        "Laden Sie die Trainingsdaten (ohne Label) und visualisieren Sie die Trainingsdaten in einem Scatter-Plot. Plotten Sie zun\u00e4chst alle Punkte farblos (`c='w', edgecolor='k'`)."
      ]
    },
    {
      "cell_type": "code",
      "execution_count": 0,
      "id": "15536d3a-7950-404b-a0ae-1d8a5e3e28b0",
      "metadata": {},
      "outputs": [],
      "source": []
    },
    {
      "cell_type": "markdown",
      "id": "d97f2584-a8cb-4590-8217-de244c72b4c1",
      "metadata": {},
      "source": [
        "---\n",
        "## Initialisierung des Kodebuchs\n",
        "\n",
        "W\u00e4hlen Sie eine geeignete Kodebuchgr\u00f6\u00dfe und initialisieren Sie entsprechend viele zuf\u00e4llige Kodew\u00f6rter.<br>\n",
        "Hierzu k\u00f6nnen Sie die Methode [np.random.permutation](http://docs.scipy.org/doc/numpy/reference/generated/numpy.random.permutation.html) verwenden.\n",
        "\n",
        "Visualisieren Sie anschlie\u00dfend die Kodew\u00f6rter im zuvor erstellen Plot, indem Sie auf derselben axis erneut `scatter` aufrufen (der vorherige Plot wird dadurch aktualisiert).<br>\n",
        "Geben Sie jedem Kodewort eine andere Farbe. Hierzu bietet sich die Verwendung einer [Colormap](https://matplotlib.org/stable/tutorials/colors/colormaps.html) an (z.B. `nipy_spectral` oder `gist_ncar`).\n",
        "\n",
        "Warum ist es sinnvoll als Initialisierung zuf\u00e4llige Beispiele aus dem Datensatz auszuw\u00e4hlen?"
      ]
    },
    {
      "cell_type": "code",
      "execution_count": 0,
      "id": "f6f3b8f2-c15c-4864-b5cd-e1777da86097",
      "metadata": {},
      "outputs": [],
      "source": []
    },
    {
      "cell_type": "markdown",
      "id": "02927159-b334-4652-9e7a-6e5fa8ad0577",
      "metadata": {},
      "source": [
        "---\n",
        "## Zuordnung der Beispiele zu Kodew\u00f6rtern\n",
        "\n",
        "Ordnen Sie alle Beispiele einem Kodewort nach der **N\u00e4chster-Nachbar-Regel** zu und visualisieren Sie farblich die Zuordnung.\n",
        "\n",
        "N\u00fctzliche Funktionen: \n",
        "- [scipy.distance.cdist](http://docs.scipy.org/doc/scipy/reference/generated/scipy.spatial.distance.cdist.html)\n",
        "- [np.argmin](https://numpy.org/doc/stable/reference/generated/numpy.argmin.html)"
      ]
    },
    {
      "cell_type": "code",
      "execution_count": 0,
      "id": "88779756-b3de-44c7-90c0-395f582fef79",
      "metadata": {},
      "outputs": [],
      "source": []
    },
    {
      "cell_type": "markdown",
      "id": "0514f1ee-4680-4958-b49b-bd22a5b7ec98",
      "metadata": {},
      "source": [
        "---\n",
        "## Berechnung des Quantisierungsfehlers\n",
        "\n",
        "Berechnen Sie den Fehler der Zuordnung:\n",
        "\n",
        "$\\large \\varepsilon = \\sum^{L}_{\\rho=1}\\int_{V_\\rho}|\\underline{f}-\\underline{b}_\\rho|^2 p(\\underline{f})d\\underline{f} $\n",
        "\n",
        "$\\large L $ ist hier die Gr\u00f6\u00dfe des Kodebuchs und $\\large \\underline{b}_\\rho $ die Kodew\u00f6rter.<br>\n",
        "\u00dcberlegen Sie, wie Sie den Fehler basierend auf der Stichprobe berechnen k\u00f6nnen:\n",
        "- Was sind die Vektoren $\\large \\underline{f} $ der Volumina $\\large {V_\\rho} $?\n",
        "- Wie kann $\\large p(\\underline{f}) $ basierend auf der Stichprobe gesch\u00e4tzt werden?\n",
        "\n",
        "N\u00fctzliche Funktionen:\n",
        "- [np.min](https://numpy.org/doc/stable/reference/generated/numpy.ndarray.min.html)\n",
        "- [np.mean](https://numpy.org/doc/stable/reference/generated/numpy.mean.html)"
      ]
    },
    {
      "cell_type": "code",
      "execution_count": 0,
      "id": "4d291f38-f928-4290-9015-703b0d5f7bad",
      "metadata": {},
      "outputs": [],
      "source": []
    },
    {
      "cell_type": "markdown",
      "id": "a4bde6cf-30e0-4de2-9439-8c9d8f06e1fa",
      "metadata": {},
      "source": [
        "---\n",
        "## Aktualisierung der Kodew\u00f6rter\n",
        "\n",
        "Berechnen Sie das optimale Kodebuch f\u00fcr die aktuelle Zuordnung der Punkte.\n",
        "\n",
        "N\u00fctzliche Funktion:\n",
        "- [np.mean](https://numpy.org/doc/stable/reference/generated/numpy.mean.html)"
      ]
    },
    {
      "cell_type": "code",
      "execution_count": 0,
      "id": "52935ee9-3225-4b1d-8f47-4e30ad2e6b34",
      "metadata": {},
      "outputs": [],
      "source": []
    },
    {
      "cell_type": "markdown",
      "id": "708325e1-94d8-4571-858d-a202b4e44adb",
      "metadata": {},
      "source": [
        "---\n",
        "## Iterative Optimierung\n",
        "\n",
        "Legen Sie einen Threshold f\u00fcr die relative \u00c4nderung des Fehlers fest. Wiederholen Sie die bisherigen Schritte, um so nach dem Algorithmus von Lloyd den Quantisierungsfehler zu minimieren, bis der festgelegte Threshold unterschritten wird.<br>\n",
        "Geben Sie nach jeder Iteration den Quantisierungsfehler aus.\n",
        "\n",
        "Warum ist es sinnvoll die relative \u00c4nderung des Quantisierungsfehler als Abbruchkriterium zu verwenden?"
      ]
    },
    {
      "cell_type": "code",
      "execution_count": 0,
      "id": "358e48fc-065b-4b45-a28b-3184f85578db",
      "metadata": {},
      "outputs": [],
      "source": []
    },
    {
      "cell_type": "markdown",
      "id": "2f8e21cc-2f8a-4442-ad5a-5cc4636450bb",
      "metadata": {},
      "source": [
        "Visualisieren Sie das berechnete Kodebuch und die Zuordnung der Daten in einem neuen Plot."
      ]
    },
    {
      "cell_type": "code",
      "execution_count": 0,
      "id": "d0b452cc-6d40-425a-85c2-79ed1f28b86b",
      "metadata": {},
      "outputs": [],
      "source": []
    },
    {
      "cell_type": "markdown",
      "id": "2cef4f78-c613-43aa-9738-f6f87a981edf",
      "metadata": {},
      "source": [
        "---\n",
        "## Implementierung des vollst\u00e4ndigen Algorithmus\n",
        "\n",
        "Implementieren Sie nun die Methode `Lloyd.cluster()` in dem Modul [`common.vector_quantization`](../common/vector_quantization.py). Hierzu k\u00f6nnen Sie gr\u00f6\u00dftenteils Ihren bisherigen Code verwenden.<br>\n",
        "Die Methode soll als Eingabe die Beispieldaten erhalten, welche Zeilenweise vorliegen. Zudem wird die Gr\u00f6\u00dfe des Kodebuchs \u00fcbergeben.<br>\n",
        "Wenn das Flag  `verbose=True` gesetzt ist, soll jede Iteration der Quantisierungsfehler in der Konsole augegeben werden.\n",
        "\n",
        "**Optional**: Die Methode `Lloyd.cluster()` akzeptiert zudem das Flag `prune_codebook`. Wenn dies gesetzt wurde, sollen alle Kodew\u00f6rter verworfen werden, welchen nicht mehr Beispiele der Trainingsdaten zugeordnet werden, als die Daten Dimensionen besitzen.<br>\n",
        "Implementieren Sie die Funktionalit\u00e4t dises Flags.\n",
        "\n",
        "\n",
        "Warum kann diese Funktionalit\u00e4t f\u00fcr die sp\u00e4ter geplante Verwendung n\u00fctzlich sein?\n",
        "\n",
        "---\n",
        "\n",
        "Importieren Sie die Klasse Lloyd und clustern Sie die Trainingsdaten. Visualisieren Sie anschliend das Ergebnis und vergleichen Sie es mit dem zuvor berechneten Ergebnis.\n",
        "\n",
        "Warum k\u00f6nnen die Ergebnisse trotz korrekter Implementierung unterschiedlich sein?"
      ]
    },
    {
      "cell_type": "code",
      "execution_count": 0,
      "id": "977df960-059b-495a-a84c-b268c29582fd",
      "metadata": {},
      "outputs": [],
      "source": []
    }
  ],
  "metadata": {
    "kernelspec": {
      "display_name": "Python 3 (ipykernel)",
      "language": "python",
      "name": "python3"
    },
    "language_info": {
      "codemirror_mode": {
        "name": "ipython",
        "version": 3
      },
      "file_extension": ".py",
      "mimetype": "text/x-python",
      "name": "python",
      "nbconvert_exporter": "python",
      "pygments_lexer": "ipython3",
      "version": "3.10.6"
    }
  },
  "nbformat": 4,
  "nbformat_minor": 5
}