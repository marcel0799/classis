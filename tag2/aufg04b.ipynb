{
  "cells": [
    {
      "cell_type": "markdown",
      "id": "566426cf-f906-44b4-8454-ae07f12f6afc",
      "metadata": {},
      "source": [
        "**\u00dcbung Mustererkennung** *WS 2022/23* -- *K. Brandenbusch,  Gernot A. Fink* -- *Technische Universit\u00e4t Dortmund, Lehrstuhl XII, Mustererkennung in eingebetteten Systemen*\n",
        "___\n",
        "# Aufgabe 4b: Mischverteilungsklassifikator mit klassenabh\u00e4ngigen Komponentendichten\n",
        "\n",
        "Realisieren Sie nun einen Mischverteilungsklassifikator mit klassenabh\u00e4ngigen Komponentendichten. Im Gegensatz zum Modell mit klassenunabh\u00e4ngigen Dichten werden hier Komponenten f\u00fcr jede Klasse unabh\u00e4ngig gesch\u00e4tzt:\n",
        "\n",
        "$$\n",
        "    \\large p(\\underline{c}|\\Omega_\\kappa) = \\sum_{l=1}^{L_\\kappa}p_{\\kappa,l}\\mathcal{N}(\\underline{c}|\\underline{\\mu}_{\\kappa,l}, \\Sigma_{\\kappa,l}) \\tag*{mit $\\large \\sum_l p_{\\kappa,l} = 1, \\forall \\kappa$,}\n",
        "$$\n",
        "\n",
        "wobei $\\large \\kappa $ der Index der Klasse und $\\large L_\\kappa $ die Anzahl der Komponenten f\u00fcr Klasse $\\large \\kappa$ angibt.\n",
        "\n",
        "---"
      ]
    },
    {
      "cell_type": "markdown",
      "id": "990beeb8-17a3-494d-adbc-8c8ecbb87505",
      "metadata": {},
      "source": [
        "Zuerst m\u00fcssen die ben\u00f6tigten Module importiert und der Datensatz geladen werden."
      ]
    },
    {
      "cell_type": "code",
      "execution_count": 0,
      "id": "b885f800-e9e8-420d-9c96-ef5f52bb2ca9",
      "metadata": {},
      "outputs": [],
      "source": [
        "%load_ext autoreload\n",
        "%autoreload 2\n",
        "%matplotlib widget\n",
        "\n",
        "import sys\n",
        "from matplotlib import cm\n",
        "import matplotlib.pyplot as plt\n",
        "import numpy as np\n",
        "from scipy.spatial.distance import cdist\n",
        "\n",
        "# Uebergeordneten Ordner zum Pfad hinzufuegen, damit das common Package importiert werden kann\n",
        "if '..' not in sys.path:\n",
        "    sys.path.append('..')\n",
        "\n",
        "from common import visualization\n",
        "from common import log_math\n",
        "from common.data_provider import DataProvider\n",
        "from common.vector_quantization import Lloyd\n",
        "\n",
        "# Trainingsdaten mit Labels laden\n",
        "train_data_provider = DataProvider(DataProvider.DATA2DROOT_TRAIN)\n",
        "train_data, train_labels = train_data_provider.get_dataset_and_labels()"
      ]
    },
    {
      "cell_type": "markdown",
      "id": "ff863eff-32fb-4b77-bc09-5f38ad816dcd",
      "metadata": {},
      "source": [
        "---\n",
        "## Berechnung der Komponentendichten\n",
        "\n",
        "Legen Sie zuerst die Anzahl von Komponentendichten f\u00fcr jede Klasse fest. Sch\u00e4tzen sie anschlie\u00dfend alle erforderlichen Parameter. Visualisieren Sie anschlie\u00dfend die Komponentendichten."
      ]
    },
    {
      "cell_type": "code",
      "execution_count": 0,
      "id": "cbc9ae43-dbbd-4db5-bbfd-4fa795fb4b12",
      "metadata": {},
      "outputs": [],
      "source": []
    },
    {
      "cell_type": "markdown",
      "id": "5d4359ec-8e2c-4082-a65b-7b8d41b2f0d1",
      "metadata": {},
      "source": [
        "---\n",
        "## Anwendung der Entscheidungsregel\n",
        "\n",
        "Basierend auf den zuvor berechneten Parametern k\u00f6nnen Sie nun die klassenbedingten Dichten $\\large p(\\underline{c}|\\Omega_\\kappa) $ f\u00fcr gegebene Merkmalsvektoren $\\large \\underline{c} $ auswerten.<br>\n",
        "Laden Sie den Testdatensatz und klassifizieren Sie alle Beispiele. Die Entscheidungsregel lautet wie in Aufgabe 2:\n",
        "\n",
        "$$\n",
        "    \\large \\lambda = \\underset{\\kappa \\in \\{1,\\dots,K\\}}{\\text{argmax}} p_\\kappa p(\\underline{c}|\\Omega_\\kappa)\n",
        "$$"
      ]
    },
    {
      "cell_type": "code",
      "execution_count": 0,
      "id": "03e95132-0616-4e2b-83ff-9be8d3d572e1",
      "metadata": {},
      "outputs": [],
      "source": []
    },
    {
      "cell_type": "markdown",
      "id": "750ed96e-c2e3-4459-9f1d-f3c4379f1563",
      "metadata": {},
      "source": [
        "---\n",
        "## Evaluation des Klassifikators\n",
        "\n",
        "Bewerten Sie die Klassifikationsergebnisse mit dem `ClassificationEvaluator` aus dem Modul [`common.classification`](../common/classification.py).\n",
        "\n",
        "**Optional:** Plotten Sie die Trainings- und die Testdaten und kennzeichnen Sie farblich die zugeh\u00f6rige bzw. zugewiesene Klasse."
      ]
    },
    {
      "cell_type": "code",
      "execution_count": 0,
      "id": "00d550ad-8c3a-4b38-a3ad-e9266c0262f9",
      "metadata": {},
      "outputs": [],
      "source": []
    },
    {
      "cell_type": "markdown",
      "id": "c5581801-c2e4-48fd-a5d6-6fb337b6b48f",
      "metadata": {},
      "source": [
        "---\n",
        "## Implementierung des Klassifikators\n",
        "\n",
        "Implementieren Sie basierend auf den bishererigen Code die Klasse `MDClassifierClassDep` im Modul [`common.classification`](../common/classification.py):\n",
        "\n",
        "\u00dcberlegen Sie, welche Parameter f\u00fcr einen Mischverteilungsklassifikator (mit klassenabh\u00e4ngigen Komponentendichten) f\u00fcr die Klassifikation ben\u00f6tigt werden.<br>\n",
        "Wie k\u00f6nnen Sie dazu die bereits implementierte Klasse `MDClassifierClassIndep` geschickt nutzen?<br>\n",
        "\n",
        "Instanzieren Sie den von Ihnen implementierten Klassifikator und trainieren Sie diesen. Testen Sie diesen anschlie\u00dfend auf den Testdaten.<br>\n",
        "Bewerten Sie die Klassifikation und vergleichen diese mit den zuvor erhaltenen Ergebnissen."
      ]
    },
    {
      "cell_type": "code",
      "execution_count": 0,
      "id": "3f8095c5-1a70-425c-8a52-0577cbb7c302",
      "metadata": {},
      "outputs": [],
      "source": []
    }
  ],
  "metadata": {
    "kernelspec": {
      "display_name": "Python 3",
      "language": "python",
      "name": "python3"
    },
    "language_info": {
      "codemirror_mode": {
        "name": "ipython",
        "version": 3
      },
      "file_extension": ".py",
      "mimetype": "text/x-python",
      "name": "python",
      "nbconvert_exporter": "python",
      "pygments_lexer": "ipython3",
      "version": "3.8.10"
    }
  },
  "nbformat": 4,
  "nbformat_minor": 5
}