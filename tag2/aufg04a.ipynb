{
  "cells": [
    {
      "cell_type": "markdown",
      "id": "1bfc0b57-4acf-4ea6-854c-7794f85c4941",
      "metadata": {},
      "source": [
        "**\u00dcbung Mustererkennung** *WS 2022/23* -- *K. Brandenbusch,  Gernot A. Fink* -- *Technische Universit\u00e4t Dortmund, Lehrstuhl XII, Mustererkennung in eingebetteten Systemen*\n",
        "___\n",
        "# Aufgabe 4a: Mischverteilungsklassifikator mit klassenunabh\u00e4ngigen Komponentendichten\n",
        "\n",
        "Statt einer Normalverteilung pro Klasse bietet es sich h\u00e4ufig an, mehrere Verteilungen vorzusehen. Nutzen Sie die in Aufgabe 3 berechneten Cluster und sch\u00e4tzten Sie f\u00fcr jedes Cluster eine Normalverteilung.<br>\n",
        "Verwenden Sie diese Normalverteilungen als Komponenten eines Mischverteilungsmodells und erstellen Sie mit dessen Hilfe einen Mischverteilungsklassifikator.\n",
        "\n",
        "In dieser Aufgabe soll zuerst ein Mischverteilungsklassifiktor mit klassenunabh\u00e4ngigen Komponentendichten realisiert werden. Anschlie\u00dfend sollen Sie in Aufgabe 4b einen Mischverteilungsklassifikator mit klassenabh\u00e4ngigen Komponentendichten implementaieren.\n",
        "\n",
        "Die Klasenbedingten Dichten sollen durch eine Mischverteilung auf der Basis von Normalverteilungsdichten modelliert werden:\n",
        "\n",
        "$$\n",
        "    \\large p(\\underline{c}|\\Omega_\\kappa) = \\sum_{l=1}^{L}p_{\\kappa,l}\\mathcal{N}(\\underline{c}|\\underline{\\mu}_l,\\Sigma_l) \\tag*{mit $\\large \\sum_{l=1}^{L} p_{\\kappa,l} = 1, \\forall \\kappa$.}\n",
        "$$\n",
        "\n",
        "$\\large \\kappa $ ist hier der Index der Klasse und $\\large L$ die Anzahl der Komponenten.\n",
        "\n",
        "---"
      ]
    },
    {
      "cell_type": "markdown",
      "id": "0f081c03-87a8-404a-adfa-15d949853c2e",
      "metadata": {},
      "source": [
        "Zuerst m\u00fcssen die ben\u00f6tigten Module importiert und der Datensatz geladen werden."
      ]
    },
    {
      "cell_type": "code",
      "execution_count": 0,
      "id": "28ac6cf9-b148-4975-b9fe-14d75da282d1",
      "metadata": {},
      "outputs": [],
      "source": [
        "%load_ext autoreload\n",
        "%autoreload 2\n",
        "%matplotlib widget\n",
        "\n",
        "import sys\n",
        "from matplotlib import cm\n",
        "import matplotlib.pyplot as plt\n",
        "import numpy as np\n",
        "from scipy.spatial.distance import cdist\n",
        "\n",
        "# Uebergeordneten Ordner zum Pfad hinzufuegen, damit das common Package importiert werden kann\n",
        "if '..' not in sys.path:\n",
        "    sys.path.append('..')\n",
        "\n",
        "from common import visualization\n",
        "from common import log_math\n",
        "from common.data_provider import DataProvider\n",
        "from common.vector_quantization import Lloyd\n",
        "\n",
        "# Trainingsdaten mit Labels laden\n",
        "train_data_provider = DataProvider(DataProvider.DATA2DROOT_TRAIN)\n",
        "train_data, train_labels = train_data_provider.get_dataset_and_labels()"
      ]
    },
    {
      "cell_type": "markdown",
      "id": "a2c8ce3b-e599-4949-8133-7b2e81175ad0",
      "metadata": {},
      "source": [
        "---\n",
        "## Berechnung der Komponentendichten\n",
        "\n",
        "Verwenden Sie die in Aufgabe 3 implementierte Methode `Lloyd.cluster()` aus dem Modul [`common.vector_quantization`](../common/vector_quantization.py), um ein Kodebuch zu berechnen.<br>\n",
        "Berechnen Sie anschlie\u00dfend eine Normalverteilung pro Cluster und visualisieren Sie diese.\n",
        "\n",
        "\u00dcberlegen Sie, wie Normalverteilungen definiert sind und wie Sie die n\u00f6tigen Paramter auf Grundlage der Quantisierung bestimmen k\u00f6nnen.\n",
        "\n",
        "N\u00fctzliche Funktionen:\n",
        " - [np.mean](http://docs.scipy.org/doc/numpy/reference/generated/numpy.mean.html)\n",
        " - [np.cov](http://docs.scipy.org/doc/numpy/reference/generated/numpy.cov.html)\n",
        " - [visualization.plot_norm_dist_ellipse](../common/visualization.py) (zur Visualisierung)\n"
      ]
    },
    {
      "cell_type": "code",
      "execution_count": 0,
      "id": "a250c7f1-a7fc-4bdf-ae05-9f344774cb3f",
      "metadata": {},
      "outputs": [],
      "source": []
    },
    {
      "cell_type": "markdown",
      "id": "c70d1db7-5fbc-473a-82d2-aefcef5519cd",
      "metadata": {},
      "source": [
        "---\n",
        "## Zuordnung der Beispiele zu den Komponentendichten\n",
        "\n",
        "Bisher erfolgte die Zuordnung der Daten zu den Kodew\u00f6rtern auf Basis ihrer Distanz zu den Kodew\u00f6rtern.<br>\n",
        "Ordnen Sie nun die Beispiele der Normalverteilung zu, welche diese mit gr\u00f6\u00dfter Likelihood generiert und visualisieren Sie die Zuordnung.<br>\n",
        "\n",
        "**Optional:** Visualisieren Sie zus\u00e4tzlich, bei welchen Datenpunkten sich die Zuordnung ge\u00e4ndert hat."
      ]
    },
    {
      "cell_type": "code",
      "execution_count": 0,
      "id": "99f907f0-4bfc-43e7-abfb-560309c499db",
      "metadata": {},
      "outputs": [],
      "source": []
    },
    {
      "cell_type": "markdown",
      "id": "5dce8ec8-b2a6-4c43-9706-04587e8456d9",
      "metadata": {},
      "source": [
        "---\n",
        "## Gewichtung der Komponentendichten\n",
        "\n",
        "Damit aus den Komponentendichten eine g\u00fcltige Mischverteilung erstellt werden kann, m\u00fcssen die Komponentendichten gewichtet werden mit $\\large \\sum_{l=1}^{L} p_{\\kappa,l} = 1, \\forall \\kappa $.<br>\n",
        "Berechnen Sie nun $\\large p_{\\kappa,l} $ f\u00fcr alle Klassen und Komponenten.<br>\n",
        "Visualisieren Sie anschlie\u00dfend in jeweils einem Plot die Daten aus der Stichprobe einer Klasse und die Gewichtung $\\large p_{\\kappa,l} $ aller Komponenten f\u00fcr die jeweilige Klasse.\n",
        "\n",
        "In derselben Schleife k\u00f6nnen Sie bereits die a-priori Wahrscheinlichkeit $\\large p_\\kappa $ der drei Klassen berechnen."
      ]
    },
    {
      "cell_type": "code",
      "execution_count": 0,
      "id": "d3a9a1f9-bb77-4cd6-9717-64ae4ffc0f33",
      "metadata": {},
      "outputs": [],
      "source": []
    },
    {
      "cell_type": "markdown",
      "id": "9e24a912-bdf9-464f-be47-4f3a15c498ec",
      "metadata": {},
      "source": [
        "---\n",
        "## Anwendung der Entscheidungsregel\n",
        "\n",
        "Basierend auf den zuvor berechneten Parametern k\u00f6nnen Sie nun die klassenbedingten Dichten $\\large p(\\underline{c}|\\Omega_\\kappa) $ f\u00fcr gegebene Merkmalsvektoren $\\large \\underline{c} $ auswerten.<br>\n",
        "Laden Sie den Testdatensatz und klassifizieren Sie alle Beispiele. Die Entscheidungsregel lautet wie in Aufgabe 2:\n",
        "\n",
        "$$\n",
        "    \\large \\lambda = \\underset{\\kappa \\in \\{1,\\dots,K\\}}{\\text{argmax}} p_\\kappa p(\\underline{c}|\\Omega_\\kappa).\n",
        "$$"
      ]
    },
    {
      "cell_type": "code",
      "execution_count": 0,
      "id": "0e73c83d-46c1-4ffd-9a9d-b5fe055c37f5",
      "metadata": {},
      "outputs": [],
      "source": []
    },
    {
      "cell_type": "markdown",
      "id": "2da8d6d5-d44a-4c2a-a721-b4249dd7fa02",
      "metadata": {},
      "source": [
        "---\n",
        "## Evaluation des Klassifikators\n",
        "\n",
        "Bewerten Sie die Klassifikationsergebnisse mit dem `ClassificationEvaluator` aus dem Modul [`common.classification`](../common/classification.py).\n",
        "\n",
        "**Optional:** Plotten Sie die Trainings- und die Testdaten und kennzeichnen Sie farblich die zugeh\u00f6rige bzw. zugewiesene Klasse."
      ]
    },
    {
      "cell_type": "code",
      "execution_count": 0,
      "id": "02e89b0f-6147-4933-af35-daf3d5aaa452",
      "metadata": {},
      "outputs": [],
      "source": []
    },
    {
      "cell_type": "markdown",
      "id": "cc1cd0e7-e1cd-4526-a159-2b76f0518208",
      "metadata": {},
      "source": [
        "---\n",
        "## Implementierung des Klassifikators\n",
        "\n",
        "Implementieren Sie basierend auf dem bishererigen Code die Klasse `MDClassifierClassIndep` im Modul [`common.classification`](../common/classification.py):\n",
        "\n",
        "\u00dcberlegen Sie, welche Parameter f\u00fcr einen Mischverteilungsklassifikator (mit klassenunabh\u00e4ngigen Komponentendichten) f\u00fcr die Klassifikation ben\u00f6tigt werden.<br>\n",
        "Legen Sie Variablen f\u00fcr diese Parameter an und initialisieren Sie diese in der Methode `MDClassifierClassIndep.__init__()`.<br>\n",
        "In der Methode `MDClassifierClassIndep.estimate()` sollen diese Parameter basierend auf den \u00fcbergebenen Trainingsdaten gesch\u00e4tzt werden.<br>\n",
        "Die Methode `MDClassifierClassIndep.classify()` soll Klassenlabels (nicht die IDs der Klassen!) f\u00fcr die \u00fcbergebenen Merkmalsvektoren vorhersagen.\n",
        "\n",
        "Instanzieren Sie den von Ihnen implementierten Klassifikator und trainieren Sie diesen. Testen Sie diesen anschlie\u00dfend auf den Testdaten.<br>\n",
        "Bewerten Sie die Klassifikation und vergleichen diese mit den zuvor erhaltenen Ergebnissen."
      ]
    },
    {
      "cell_type": "code",
      "execution_count": 0,
      "id": "2d2da31f-4069-4d10-a750-b398a1e007f3",
      "metadata": {},
      "outputs": [],
      "source": []
    }
  ],
  "metadata": {
    "kernelspec": {
      "display_name": "Python 3",
      "language": "python",
      "name": "python3"
    },
    "language_info": {
      "codemirror_mode": {
        "name": "ipython",
        "version": 3
      },
      "file_extension": ".py",
      "mimetype": "text/x-python",
      "name": "python",
      "nbconvert_exporter": "python",
      "pygments_lexer": "ipython3",
      "version": "3.8.10"
    }
  },
  "nbformat": 4,
  "nbformat_minor": 5
}