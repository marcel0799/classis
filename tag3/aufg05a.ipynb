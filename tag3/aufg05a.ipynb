{
  "cells": [
    {
      "cell_type": "markdown",
      "id": "29295991",
      "metadata": {},
      "source": [
        "**\u00dcbung Mustererkennung** *WS 2022/23* -- *K. Brandenbusch,  Gernot A. Fink* -- *Technische Universit\u00e4t Dortmund, Lehrstuhl XII, Mustererkennung in eingebetteten Systemen*\n",
        "\n",
        "___\n",
        "# Aufgabe 5a: Hauptachsen-Transformation - Einf\u00fchrung"
      ]
    },
    {
      "cell_type": "markdown",
      "id": "01bb6907",
      "metadata": {},
      "source": [
        "Zuerst muss das Notebook konfiguriert werden."
      ]
    },
    {
      "cell_type": "code",
      "execution_count": 0,
      "id": "bb477375",
      "metadata": {},
      "outputs": [],
      "source": [
        "%load_ext autoreload\n",
        "%autoreload 2\n",
        "%matplotlib widget\n",
        "\n",
        "# Uebergeordneten Ordner zum Pfad hinzufuegen, damit das common Package importiert werden kann\n",
        "import sys\n",
        "if '..' not in sys.path:\n",
        "    sys.path.append('..')"
      ]
    },
    {
      "cell_type": "markdown",
      "id": "4d6ef4b0",
      "metadata": {},
      "source": [
        "In der Praxis haben Merkmalsvektoren deutlich mehr Dimensionen als die zweidimensionalen Beispiele mit denen Sie bislang gearbeitet haben.\n",
        "Einen Klassifikator f\u00fcr hochdimensionale Merkmalsvektoren zu erstellen erfordert daher erheblich mehr Trainingsdaten.\n",
        "Insbesonders ist zu erwarten, dass viele der Dimensionen keine relevante Information enthalten oder dass die unterschiedlichen Merkmalsvektorkomponenten stark korrelliert oder sogar linear abh\u00e4ngig sind.\n",
        "\n",
        "Daher bietet es sich an, die Anzahl der Dimensionen auf die aussagekr\u00e4ftigsten Dimensionen zu reduzieren.\n",
        "Ein Verfahren zur Dimensionsreduktion ist die *Hauptachsen-Transformation* oder *Principal Component Analysis* (PCA).\n",
        "\n",
        "Eine Hauptachsen-Transformation wird wie folgt realisiert:  \n",
        "Zun\u00e4chst wird die Gesamtstreuungsmatrix $\\underline S_T$ berechnet\n",
        "\n",
        "$$\n",
        "    \\large \\underline S_T = \\frac{1}{N} \\sum_{i=1}^N (\\underline x_i - \\underline m)(\\underline x_i - \\underline m)^T \n",
        "$$\n",
        "\n",
        "wobei $\\large \\underline m =\\frac{1}{N} \\sum_i \\underline x_i$.\n",
        "\n",
        "Anschlie\u00dfend werden die Eigenvektoren $\\large \\varphi_\\nu$ und Eigenwerte $\\large \\lambda_\\nu$ von $ \\underline S_T$ bestimmt\n",
        "\n",
        "$$\n",
        "    \\large \\underline S_T \\varphi_\\nu = \\lambda_\\nu \\varphi_\\nu\n",
        "$$\n",
        "\n",
        "wobei $\\large \\lambda_1 \\geq \\lambda_2 \\geq \\dots \\geq \\lambda_n$ gilt.\n",
        "- Wof\u00fcr stehen die berechneten Eigenvektoren und ihre Eigenwerte?\n",
        "\n",
        "Schlie\u00dflich wird aus den Eigenvektoren eine Transformationsmatrix konstruiert\n",
        "\n",
        "$$\n",
        "    \\large \\underline \\Phi = \\begin{pmatrix} \\underline \\varphi_1^T \\\\ \\vdots \\\\ \\underline \\varphi_n^T\\end{pmatrix}\n",
        "$$\n",
        "\n",
        "- Wie l\u00e4sst sich mit dieser Tranformation nun die Dimension der Daten reduzieren?\n",
        "- Welche Annahme wird bei dieser Reduktion getroffen?\n",
        "- Wie l\u00e4sst sich der durch die Dimensionsreduktion entstandene Fehler bestimmen?"
      ]
    },
    {
      "cell_type": "markdown",
      "id": "53d0a137",
      "metadata": {},
      "source": [
        "---\n",
        "## Spielbeispiel\n",
        "Zum besseren Verst\u00e4ndnis der Hauptachsen-Transformation schauen Sie sich zun\u00e4chst ein Spielbeispiel an. An diesem lassen sich die Konzepte einfacher visualisieren und nachvollziehen."
      ]
    },
    {
      "cell_type": "code",
      "execution_count": 0,
      "id": "c85f57bf",
      "metadata": {},
      "outputs": [],
      "source": [
        "import numpy as np\n",
        "from common.pca import PCA\n",
        "import matplotlib.pyplot as plt\n",
        "\n",
        "# Ein 3D Beispieldatensatz wird aus einer Normalverteilung generiert.\n",
        "# Diese ist durch einen Mittelwert und eine Kovarianzmatrix definiert\n",
        "mean = np.array([10, 10, 10])\n",
        "cov = np.array([[3, .2, .9],\n",
        "                [.2, 5, .4],\n",
        "                [.9, .4, 9]])\n",
        "n_samples = 1000\n",
        "limits_samples = ((0, 20), (0, 20), (0, 20))\n",
        "samples = np.random.multivariate_normal(mean, cov, n_samples)\n",
        "# Plotten der Beispieldaten\n",
        "fig = plt.figure()\n",
        "ax = fig.add_subplot(111, projection='3d')\n",
        "PCA.plot_sample_data(samples, ax=ax)\n",
        "PCA.set_axis_limits(ax, limits=limits_samples)\n"
      ]
    },
    {
      "cell_type": "markdown",
      "id": "1a1406c1",
      "metadata": {},
      "source": [
        "Die Klasse `PCA` im modul [`common.pca`](../common/pca.py) bietet ein Ger\u00fcst f\u00fcr eine Hauptachsen-Transformation, welches Sie in den n\u00e4chsten Schritten vervollst\u00e4ndigen werden.\n",
        "\n",
        "### Sch\u00e4tzen\n",
        "\n",
        "Implementieren Sie zun\u00e4chst den Konstruktor der Klasse `PCA`, welcher den Mittelwert, die Eigenwerte und Eigenvektoren berechnet.\n",
        "Achten sie darauf, dass Ihre Ergebnisse in den Variablen `self.train_mean`, `self.eig_vals` und `self.eig_vecs` gespeichert werden.\n",
        "Andere vorgefertigte Funktionen, wie z.B. `PCA.plot_subspace` sind auf diese Werte angewiesen.\n",
        "\n",
        "Tipp: Sollten Sie das Programmieren in Jupyter Notebook Zellen bevorzugen, erstellen Sie sich eine neue Zelle und entwickeln Sie ihren Prototypen darin.\n",
        "Anschlie\u00dfend k\u00f6nnen Sie Ihre Implementierung in den Konstruktor kopieren.\n",
        "\n",
        "N\u00fctzliche Funktionen:\n",
        "- [np.dot](https://numpy.org/doc/stable/reference/generated/numpy.dot.html)\n",
        "- [np.linalg.eig](https://numpy.org/doc/stable/reference/generated/numpy.linalg.eig.html)\n",
        "- [np.argsort](https://numpy.org/doc/stable/reference/generated/numpy.argsort.html)"
      ]
    },
    {
      "cell_type": "code",
      "execution_count": 0,
      "id": "0b180931",
      "metadata": {},
      "outputs": [],
      "source": [
        "pca_tutorial = PCA(samples)\n",
        "pca_tutorial.plot_subspace(limits=limits_samples,\n",
        "                           color='r',\n",
        "                           linewidth=0.05, alpha=0.3)"
      ]
    },
    {
      "cell_type": "markdown",
      "id": "cb0262a2-1c98-477e-8411-436696a942b2",
      "metadata": {},
      "source": [
        "Durch \"weglassen\" von Dimensionen, beginnend mit den Dimensionen mit kleinstem Eigenwert, l\u00e4sst sich die Dimension der Daten mit minimalem Rekonstruktionsfehler reduzieren.\n",
        "Der folgende Plot illustriert den reduzierten Raum durch weglassen einer Dimension."
      ]
    },
    {
      "cell_type": "code",
      "execution_count": 0,
      "id": "82b2c459-2e54-41f3-90ba-e843e67152ba",
      "metadata": {},
      "outputs": [],
      "source": [
        "pca_tutorial.plot_subspace(limits=limits_samples, color='b', linewidth=0.05, alpha=0.3, target_dim=2)"
      ]
    },
    {
      "cell_type": "markdown",
      "id": "0dde6b46-03a4-4460-975e-721b1ddbbab4",
      "metadata": {},
      "source": [
        "### Transformieren\n",
        "Transformieren Sie nun die 3D Beispieldaten in den 2D Unterraum.\n",
        "Implementieren Sie dazu die Methode `PCA.transform_samples` im Modul [`common.pca`](../common/pca.py).  \n",
        "Speichern Sie die transformierten Daten in der Variablen `samples_2d` und stellen Sie anschlie\u00dfend die 2D-Daten in einem 2D-Plot dar."
      ]
    },
    {
      "cell_type": "code",
      "execution_count": 0,
      "id": "17d95935-802c-41fe-b1fa-71092b01b7f2",
      "metadata": {},
      "outputs": [],
      "source": [
        "target_dim=2\n"
      ]
    },
    {
      "cell_type": "markdown",
      "id": "96b1211f-a6a2-45b7-bc0f-f006c468bd2a",
      "metadata": {},
      "source": [
        "Unten wird die Kovarianzmatrix der transformierten Daten berechnet.\n",
        "- Welche Eigenschaften hat diese Matrix? (Dimension, etc.)\n",
        "- In welcher Gr\u00f6\u00dfenordnung liegen die einzelnen Eintr\u00e4ge? Erkl\u00e4ren Sie das anhand des vorherigen 2D Plots.\n",
        "- Vergleichen Sie das Ergebnis mit der Kovarianzmatrix, die oben zur Generierung der Daten verwendet wurde. Erkl\u00e4ren Sie den Mittelwert der transformierten Daten."
      ]
    },
    {
      "cell_type": "code",
      "execution_count": 0,
      "id": "b89a322a-295b-4eab-b5a6-2574bd15d5ee",
      "metadata": {},
      "outputs": [],
      "source": [
        "samples_2d_mean = np.sum(samples_2d, axis=0)\n",
        "samples_2d_meanfree = samples_2d - samples_2d_mean\n",
        "samples_2d_cov = np.dot(samples_2d_meanfree.T, samples_2d_meanfree) / samples_2d.shape[0]\n",
        "np.set_printoptions(precision=2, suppress=True)\n",
        "print('samples_2d mean')\n",
        "print(samples_2d_mean)\n",
        "print('samples_2d covariance matrix')\n",
        "print(samples_2d_cov)"
      ]
    }
  ],
  "metadata": {
    "kernelspec": {
      "display_name": "Python 3 (ipykernel)",
      "language": "python",
      "name": "python3"
    },
    "language_info": {
      "codemirror_mode": {
        "name": "ipython",
        "version": 3
      },
      "file_extension": ".py",
      "mimetype": "text/x-python",
      "name": "python",
      "nbconvert_exporter": "python",
      "pygments_lexer": "ipython3",
      "version": "3.10.6"
    }
  },
  "nbformat": 4,
  "nbformat_minor": 5
}