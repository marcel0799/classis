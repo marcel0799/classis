{
  "cells": [
    {
      "cell_type": "markdown",
      "id": "29295991",
      "metadata": {},
      "source": [
        "**\u00dcbung Mustererkennung** *WS 2022/23* -- *K. Brandenbusch,  Gernot A. Fink* -- *Technische Universit\u00e4t Dortmund, Lehrstuhl XII, Mustererkennung in eingebetteten Systemen*\n",
        "\n",
        "___\n",
        "# Aufgabe 5b: Hauptachsen-Transformation auf MNIST\n",
        "Nachdem bisher mit artifiziellen Datens\u00e4tzen gearbeitet wurde, wenden wir uns jetzt realen Daten zu.\n",
        "Dazu verwenden wir den [MNIST-Datensatz](https://de.wikipedia.org/wiki/MNIST-Datenbank) der Grauwert-Bilder handgeschriebener Ziffern enth\u00e4lt.\n",
        "Der MNIST-Datensatz besteht im Original aus 60000 Trainingsbildern und 10000 Testbildern.\n",
        "Um den Trainingsaufwand gering zu halten, werden im Rahmen dieser \u00dcbung lediglich 1000 zuf\u00e4llig ausgew\u00e4hlte aus den ingesamt zur Verf\u00fcgung stehenden 6000 Trainingsbeispielen pro Klasse verwendet.\n",
        "Somit ergibt sich ein Trainingsdatensatz von 10000 sowie ein ebenfalls verkleinerter Testdatensatz von 1000 Bildern.\n",
        "Die 28 \u00d7 28 Pixel gro\u00dfen Bilder k\u00f6nnen als 784-dimensionale Merkmalsvektoren aufgefasst werden."
      ]
    },
    {
      "cell_type": "markdown",
      "id": "01bb6907",
      "metadata": {},
      "source": [
        "Zuerst muss das Notebook konfiguriert werden."
      ]
    },
    {
      "cell_type": "code",
      "execution_count": 0,
      "id": "bb477375",
      "metadata": {},
      "outputs": [],
      "source": [
        "%load_ext autoreload\n",
        "%autoreload 2\n",
        "%matplotlib widget\n",
        "\n",
        "# Uebergeordneten Ordner zum Pfad hinzufuegen, damit das common Package importiert werden kann\n",
        "import sys\n",
        "if '..' not in sys.path:\n",
        "    sys.path.append('..')\n",
        "\n",
        "import matplotlib.pyplot as plt  \n",
        "import matplotlib.cm as cm\n",
        "    \n",
        "def show_data(data, width=1):\n",
        "    \"\"\"\n",
        "    Stellt die Bilder in data zeilenweise dar. Nebeneinander werden width-viele\n",
        "    Bilder angezeigt. Die Gesamtanzahl der Bilder muss so gewaehlt sein, dass in jeder\n",
        "    Zeile width-viele Bilder dargestellt werden koennen.\n",
        "    Params:\n",
        "        data: Darzustellende Bilder als 2D-ndarray. Eine Zeile entspricht einem Bild.\n",
        "        width: Anzahl der Bilder einer Zeile in der Visualisierung. (default = 1)\n",
        "    \"\"\"\n",
        "    if len(data.shape) == 1:\n",
        "        data = data.reshape(1, data.shape[0])\n",
        "        image_count = 1\n",
        "    else:\n",
        "        image_count = data.shape[0]\n",
        "\n",
        "    image = []\n",
        "    for i in np.arange(width):\n",
        "        index = np.arange(i, image_count, width)\n",
        "        column = data[index, :]\n",
        "        image.append(column.reshape((28 * column.shape[0], 28)))\n",
        "    image = np.hstack(tuple(image))\n",
        "\n",
        "    fig = plt.figure()\n",
        "    ax = fig.add_subplot(111)\n",
        "    ax.imshow(image, cmap=cm.get_cmap('Greys_r'))\n",
        "    ax.set_xticks([])\n",
        "    ax.set_yticks([])\n",
        "    return ax"
      ]
    },
    {
      "cell_type": "markdown",
      "id": "4d6ef4b0",
      "metadata": {},
      "source": [
        "Laden Sie die Trainingsdaten des MNIST-Datensatz.\n",
        "Das Laden des Datensatzes kann einige Sekunden in Anspruch nehmen.\n",
        "Mit der oben definierten Funktion `show_data(data, width)` k\u00f6nnen Sie Bilder des Datensatzes anzeigen lassen.\n",
        "Die Anzahl der Bilder muss ein Vielfaches des Parameters `width` sein."
      ]
    },
    {
      "cell_type": "code",
      "execution_count": 0,
      "id": "2795c55e-e4f8-4b95-a06c-8cdd851cddc4",
      "metadata": {},
      "outputs": [],
      "source": [
        "from common.data_provider import DataProvider\n",
        "import numpy as np\n",
        "train_data_provider = DataProvider(DataProvider.MNIST_TRAIN)\n"
      ]
    },
    {
      "cell_type": "markdown",
      "id": "ee6d376b-7b9b-4030-acdd-a3123d34c1a9",
      "metadata": {},
      "source": [
        "Sch\u00e4tzen Sie nun eine Hauptachsen-Tranformations f\u00fcr die 784-dimensionalen Daten des MNIST-Datensatzes.\n",
        "Plotten Sie anschlie\u00dfend eine Kurve die den Rekonstruktionsfehler in Abh\u00e4ngigkeit zur gew\u00e4lten Dimension zeigt.\n",
        "W\u00e4hlen Sie aufgrund ihrer Beobachtung geeignete Gr\u00f6\u00dfen f\u00fcr Ihre Dimensionsreduktion."
      ]
    },
    {
      "cell_type": "code",
      "execution_count": 0,
      "id": "c9660594-6458-46ae-a5c0-9706812fa8f4",
      "metadata": {},
      "outputs": [],
      "source": []
    },
    {
      "cell_type": "markdown",
      "id": "602aa107-d550-4522-b2e0-15e6825cd8c1",
      "metadata": {},
      "source": [
        "Visualisieren sie den Mittelwert des Datensatzes (siehe Konstruktor der Klasse `PCA`) und die ersten 20 Eigenvektoren.\n",
        "Verwenden Sie dazu die Methode `show_data`."
      ]
    },
    {
      "cell_type": "code",
      "execution_count": 0,
      "id": "b3e4f75c-02c0-4d4a-a8c7-95e792368325",
      "metadata": {},
      "outputs": [],
      "source": []
    },
    {
      "cell_type": "markdown",
      "id": "6780ee8b-f019-47ea-bfd8-93cfc5727269",
      "metadata": {},
      "source": [
        "Transformieren Sie nun die Daten in die von Ihnen gew\u00e4lten Dimensionen.\n",
        "F\u00fchren sie au\u00dferdem anschlie\u00dfend eine R\u00fccktransformation durch.\n",
        "Legen Sie daf\u00fcr eine Methode `retransform_samples` in der Klasse `PCA` an.\n",
        "\n",
        "Visualisieren Sie f\u00fcr jede r\u00fccktransformierte Variante jede Ziffer (\u00e4hnlich wie zu Beginn der Aufgabe).\n",
        "Nutzen Sie daf\u00fcr die Methode `show_data`."
      ]
    },
    {
      "cell_type": "code",
      "execution_count": 0,
      "id": "ddfb1aa3-f8e7-406d-8dee-a61865e584ae",
      "metadata": {},
      "outputs": [],
      "source": []
    },
    {
      "cell_type": "markdown",
      "id": "8961afa4-eaaf-4fa2-9cdb-c3922e1a5f15",
      "metadata": {},
      "source": [
        "Es ist empfehlenswert, die dimensionsreduzierten Daten f\u00fcr die sp\u00e4tere Nutzung zu speichern.  \n",
        "Dazu bietet sich die Python Bibliothek [`pickle`](https://docs.python.org/3.9/library/pickle.html) an. \n",
        "Eine kurze Einf\u00fchrung in die Verwendung von `pickle` finden sie [hier](https://wiki.python.org/moin/UsingPickle).\n",
        "\n",
        "_Hinweis_: Hinterlegen Sie die Dimension der dimensionsreduzierten Daten im Dateinamen des gespeicherten Objekts um in sp\u00e4teren Aufgaben mehrere Varianten zu Verf\u00fcgung zu haben."
      ]
    },
    {
      "cell_type": "code",
      "execution_count": 0,
      "id": "dd6bd139-fbb8-4afe-a5fa-cad7bca39ce7",
      "metadata": {},
      "outputs": [],
      "source": []
    }
  ],
  "metadata": {
    "kernelspec": {
      "display_name": "Python 3 (ipykernel)",
      "language": "python",
      "name": "python3"
    },
    "language_info": {
      "codemirror_mode": {
        "name": "ipython",
        "version": 3
      },
      "file_extension": ".py",
      "mimetype": "text/x-python",
      "name": "python",
      "nbconvert_exporter": "python",
      "pygments_lexer": "ipython3",
      "version": "3.10.6"
    }
  },
  "nbformat": 4,
  "nbformat_minor": 5
}