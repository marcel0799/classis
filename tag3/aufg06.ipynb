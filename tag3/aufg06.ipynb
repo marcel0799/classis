{
  "cells": [
    {
      "cell_type": "markdown",
      "id": "617416e0-5b48-4078-b624-bb2b103a8aaa",
      "metadata": {},
      "source": [
        "**\u00dcbung Mustererkennung** *WS 2022/23* -- *K. Brandenbusch,  Gernot A. Fink* -- *Technische Universit\u00e4t Dortmund, Lehrstuhl XII, Mustererkennung in eingebetteten Systemen*\n",
        "\n",
        "___\n",
        "# Aufgabe 6: Klassifikation Dimensionsreduzierter Daten\n",
        "Nun sollen die Daten des MNIST-Datensatzes mit den vorher erstellten Klassifikatoren klassifiziert werden.\n",
        "Trainieren Sie dazu jeweils mit den (dimensionsreduzierten) Trainigsdaten einen Klassifikator und berechnen Sie den Klassifikationsfehler auf dem Testdatensatz.\n",
        "\n",
        "Variieren Sie die Parametrisierung der Klassifikatoren, um einen m\u00f6glichst geringen Klassifikationsfehler zu erreichen."
      ]
    },
    {
      "cell_type": "code",
      "execution_count": 0,
      "id": "7a63e2c7-92fb-4cfd-8e4b-d93d9f58fc43",
      "metadata": {},
      "outputs": [],
      "source": [
        "%load_ext autoreload\n",
        "%autoreload 2\n",
        "%matplotlib widget\n",
        "\n",
        "# Uebergeordneten Ordner zum Pfad hinzufuegen, damit das common Package importiert werden kann\n",
        "import sys\n",
        "if '..' not in sys.path:\n",
        "    sys.path.append('..')\n",
        "    \n",
        "from common.data_provider import DataProvider\n",
        "from common.vector_quantization import Lloyd\n",
        "from common.classification import KNNClassifier, MDClassifierClassDep, MDClassifierClassIndep, ClassificationEvaluator"
      ]
    },
    {
      "cell_type": "markdown",
      "id": "741f774b-fcae-4ccb-a464-ddc50ebb93ec",
      "metadata": {},
      "source": [
        "Laden Sie zun\u00e4chst ihre dimensionsreduzierten MNIST-Daten.\n",
        "\n",
        "Trainieren Sie einen Mischverteilungsklassifikator (sowohl mit klassenabh\u00e4ngigen und als auch mit klassenunabh\u00e4ngigen Dichten) f\u00fcr verschiedene mit PCA dimensionsreduzierte Versionen der MNIST-Daten und vergleichen Sie die erzielten Ergebnisse.\n",
        "\n"
      ]
    },
    {
      "cell_type": "code",
      "execution_count": 0,
      "id": "84a9e6f3-29fb-40c1-8810-935368041c9c",
      "metadata": {
        "tags": []
      },
      "outputs": [],
      "source": [
        "# Klassenabh\u00e4ngiger Mischverteilungsklassifikator\n"
      ]
    },
    {
      "cell_type": "code",
      "execution_count": 0,
      "id": "cbdd2a37-a16f-4034-a88a-c327c6bc7400",
      "metadata": {},
      "outputs": [],
      "source": [
        "# Klassenunabh\u00e4ngiger Mischverteilungsklassifikator\n"
      ]
    },
    {
      "cell_type": "markdown",
      "id": "5d3a1b0a-c6fb-4903-a180-cb0d112fb481",
      "metadata": {},
      "source": [
        "Trainieren Sie einen $k$-NN-Klassifikator f\u00fcr verschiedene mit PCA dimensionsreduzierte Versionen der MNIST-Daten und vergleichen Sie die erzielten Ergebnisse."
      ]
    },
    {
      "cell_type": "code",
      "execution_count": 0,
      "id": "8f9eb652-2f62-4f61-9a3e-fda48b940957",
      "metadata": {},
      "outputs": [],
      "source": [
        "# KNN-Klassifikator\n"
      ]
    }
  ],
  "metadata": {
    "kernelspec": {
      "display_name": "Python 3 (ipykernel)",
      "language": "python",
      "name": "python3"
    },
    "language_info": {
      "codemirror_mode": {
        "name": "ipython",
        "version": 3
      },
      "file_extension": ".py",
      "mimetype": "text/x-python",
      "name": "python",
      "nbconvert_exporter": "python",
      "pygments_lexer": "ipython3",
      "version": "3.10.6"
    }
  },
  "nbformat": 4,
  "nbformat_minor": 5
}