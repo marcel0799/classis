{
  "cells": [
    {
      "cell_type": "markdown",
      "id": "d618a731-9d94-4dac-a843-71495eb29616",
      "metadata": {
        "tags": []
      },
      "source": [
        "**\u00dcbung Mustererkennung** *WS 2022/23* -- *K. Brandenbusch,  Gernot A. Fink* -- *Technische Universit\u00e4t Dortmund, Lehrstuhl XII, Mustererkennung in eingebetteten Systemen*\n",
        "___\n",
        "# Aufgabe 7: Support Vector Machines\n",
        "\n",
        "Im Gegensatz zu den bisher verwendeten Klassifikatoren, die Klassengebiete explizit \u00fcber (Mischungen von) Gaussverteilungen modellieren, sollen nun diskriminative Klassifikatoren untersucht werden.<br>\n",
        "Als besonders leistungsf\u00e4hig haben sich die in der Vorlesung behandelten Support Vector Machines erwiesen.\n",
        "\n",
        "Anhand des data2d Datensatzes soll nun die Mustererkennung mittels Support Vector Machines untersucht werden.\n",
        "\n",
        "---"
      ]
    },
    {
      "cell_type": "markdown",
      "id": "7dfd73ee-4169-4b5d-bf91-7a6184a7c03f",
      "metadata": {},
      "source": [
        "Zuerst m\u00fcssen die ben\u00f6tigten Module importiert werden. F\u00fcr Python stellt die Bibliothek sklearn die [Implementierung einer SVM](http://scikit-learn.org/stable/modules/svm.html#svm) bereit."
      ]
    },
    {
      "cell_type": "code",
      "execution_count": 0,
      "id": "32356cd9-8893-4528-8e94-afc615095e55",
      "metadata": {},
      "outputs": [],
      "source": [
        "%load_ext autoreload\n",
        "%autoreload 2\n",
        "%matplotlib widget\n",
        "\n",
        "import sys\n",
        "import matplotlib.pyplot as plt\n",
        "from sklearn import svm\n",
        "\n",
        "# Uebergeordneten Ordner zum Pfad hinzufuegen, damit das common Package importiert werden kann\n",
        "if '..' not in sys.path:\n",
        "    sys.path.append('..')\n",
        "\n",
        "from common.classification import ClassificationEvaluator, GaussianClassifier\n",
        "from common.data_provider import DataProvider\n",
        "from common import visualization"
      ]
    },
    {
      "cell_type": "markdown",
      "id": "e225af8a-8355-4b04-8f60-d83b5e169ca0",
      "metadata": {},
      "source": [
        "---\n",
        "## Lineare SVM\n",
        "\n",
        "Der zweidimensionale Datensatz data2d enth\u00e4lt 3 Klassen. Laden Sie die zun\u00e4chst nur die Trainings- und Testdaten der Klasen 0 und 2. Klasse 1 wird hier nicht betrachtet, da sie sich nicht linear von den Klassen 0 und 2 trennen l\u00e4sst.\n",
        "\n",
        "Der Methode `DataProvider.get_dataset_and_labels` kann hierzu ein Tupel mit den Indizes der zu ladenden Klassen \u00fcbergeben werden."
      ]
    },
    {
      "cell_type": "code",
      "execution_count": 0,
      "id": "2688a588-865e-4853-96fa-9cfc8e6d415a",
      "metadata": {},
      "outputs": [],
      "source": []
    },
    {
      "cell_type": "markdown",
      "id": "e13bb853-09e3-4d5e-9036-beb1b7f004b7",
      "metadata": {},
      "source": [
        "Trainieren Sie nun eine lineare SVM (`svm.LinearSVC` von sklearn) zur Trennung der beiden Klassen.\n",
        "Evaluieren Sie diese auf den Testdaten. Hierzu k\u00f6nnen Sie ebenfalls den `ClassificationEvaluator` aus dem Modul [`common.classification`](../common/classification.py) verwenden.\n",
        "\n",
        "Wie hoch ist der Klassifikationsfehler im Vergleich zum Normalverteilungsklassifikator? \n",
        "\n",
        "Visualisieren Sie die resultierende Trennfunktion. Im Modul [`common.visualization`](../common/visualization.py) steht daf\u00fcr die Methode `plot_svm` bereit.<br>\n",
        "Diskutieren Sie den Einfluss der Slack-Variablen (in Form des C-Parameters) auf die Trennfunktion und damit den entstehenden Klassifikationsfehler."
      ]
    },
    {
      "cell_type": "code",
      "execution_count": 0,
      "id": "83d8688a-0fcf-4c6b-a97d-791b3290be0e",
      "metadata": {},
      "outputs": [],
      "source": []
    },
    {
      "cell_type": "markdown",
      "id": "371dd1f8-dd4f-4d78-b343-def3ccc071e4",
      "metadata": {},
      "source": [
        "---\n",
        "## Kernel SVM\n",
        "Laden Sie nun die Beispiele der Klassen 1 und 2. Da die beiden Klassen nicht linear trennbar sind, ist die Verwendung eines Kernels notwendig.<br>\n",
        "Die Klasse `svm.SVC` unterst\u00fctzt beispielsweise `linear`, `rbf`, `poly` und `sigmoid`. Beachten Sie, dass auch die Kernel ggf. Hyperparater besitzen, welche eingestellt werden m\u00fcssen!\n",
        "\n",
        "Evaluieren Sie, welcher Kernel geeignet ist, um das Problem zu l\u00f6sen. Visualisieren Sie auch hier die Trennfunktion und diskutieren Sie den Einfluss des Kernels und dessen Parameter."
      ]
    },
    {
      "cell_type": "code",
      "execution_count": 0,
      "id": "45bd50ea-52db-40e1-96da-02b81d61663a",
      "metadata": {},
      "outputs": [],
      "source": []
    },
    {
      "cell_type": "markdown",
      "id": "ff5ad1b1-a3ef-4ca0-8787-3819347f30af",
      "metadata": {},
      "source": [
        "---\n",
        "## Multi-Class SVM\n",
        "Trainieren Sie nun eine Multi-Class SVM zur L\u00f6sung des 3-Klassenproblems unter Verwendung eines geeigneten Kernels.\n",
        "    \n",
        "Wie k\u00f6nnen die optimalen kernelspezifischen Parameter sinnvoll ermittelt werden?<br>\n",
        "Hinweis: Starten Sie zun\u00e4chst mit den Grundeinstellungen der Bibliothek.\n",
        "\n",
        "Vergleichen Sie Ihre Ergebnisse mit den bisher erzielten Klassifikationsfehlerraten."
      ]
    },
    {
      "cell_type": "code",
      "execution_count": 0,
      "id": "3ad8220b-6f38-44d0-82cd-6759f1a7c312",
      "metadata": {},
      "outputs": [],
      "source": []
    }
  ],
  "metadata": {
    "kernelspec": {
      "display_name": "Python 3",
      "language": "python",
      "name": "python3"
    },
    "language_info": {
      "codemirror_mode": {
        "name": "ipython",
        "version": 3
      },
      "file_extension": ".py",
      "mimetype": "text/x-python",
      "name": "python",
      "nbconvert_exporter": "python",
      "pygments_lexer": "ipython3",
      "version": "3.8.10"
    },
    "toc-showmarkdowntxt": false
  },
  "nbformat": 4,
  "nbformat_minor": 5
}