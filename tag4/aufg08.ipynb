{
  "cells": [
    {
      "cell_type": "markdown",
      "id": "19ca5827-7e1c-4b77-8b42-8c7bd5dc33d5",
      "metadata": {},
      "source": [
        "**Übung Mustererkennung** *WS 2022/23* -- *K. Brandenbusch,  Gernot A. Fink* -- *Technische Universität Dortmund, Lehrstuhl XII, Mustererkennung in eingebetteten Systemen*\n",
        "___\n",
        "# Aufgabe 8 (optional): Support Vector Machines - MNIST\n",
        "\n",
        "Die Leistungsfähigkeit der Support Vector Machines soll nun für das realistischere Szenario der Zeichenerkennung untersucht werden. \n",
        "Hierzu soll ein komplettes Klassifikationssystem für den MNIST-Datensatz erstellt werden.\n",
        "\n",
        "---"
      ]
    },
    {
      "cell_type": "markdown",
      "id": "9c0dab18-5d74-4906-8f32-010ca663e168",
      "metadata": {},
      "source": [
        "Zuerst müssen die benötigten Module importiert werden."
      ]
    },
    {
      "cell_type": "code",
      "execution_count": null,
      "id": "213ed79f-6ebc-4d32-9513-906c78c15f45",
      "metadata": {},
      "outputs": [],
      "source": [
        "%load_ext autoreload\n",
        "%autoreload 2\n",
        "%matplotlib widget\n",
        "\n",
        "import sys\n",
        "import numpy as np\n",
        "from sklearn import svm\n",
        "\n",
        "# Uebergeordneten Ordner zum Pfad hinzufuegen, damit das common Package importiert werden kann\n",
        "if '..' not in sys.path:\n",
        "    sys.path.append('..')\n",
        "\n",
        "from common.classification import ClassificationEvaluator\n",
        "from common.data_provider import DataProvider"
      ]
    },
    {
      "cell_type": "markdown",
      "id": "ecbda4b5-04f3-4ef9-a571-f70788b3f07e",
      "metadata": {},
      "source": [
        "---\n",
        "## Lineare SVM auf Originaldaten\n",
        "\n",
        "Laden Sie zunächst die MNIST-Daten in Originalrepräsentation (784-D) und trainieren Sie eine lineare SVM mit den Standardparametern von sklearn."
      ]
    },
    {
      "cell_type": "code",
      "execution_count": null,
      "id": "410b2d7d-75cd-4857-a53d-0c984cc1cc6a",
      "metadata": {},
      "outputs": [],
      "source": []
    },
    {
      "cell_type": "markdown",
      "id": "0905e94c-b9a9-4127-9fa6-d80bef80d721",
      "metadata": {},
      "source": [
        "---\n",
        "## Lineare SVM auf PCA-reduzierten Daten\n",
        "\n",
        "Verwenden Sie an Stelle der 784-dimensionalen Originaldaten die Merkmalsrepraesentationen aus Tag 3. Die jeweiligen SVMs sollen auf der Basis einer linearen SVM mit soft-margin erstellt werden. Vergleichen Sie die Ergebnisse."
      ]
    },
    {
      "cell_type": "code",
      "execution_count": null,
      "id": "fffed95e-db2e-45ef-9f79-5f980879fe3a",
      "metadata": {},
      "outputs": [],
      "source": []
    },
    {
      "cell_type": "markdown",
      "id": "0c5d9dc4-63c4-4dbe-8b4c-874a299a7935",
      "metadata": {},
      "source": [
        "---\n",
        "## Kernel SVM auf PCA-reduzierten Daten\n",
        "\n",
        "Variieren Sie die verwendete Kernelfunktion und vergleichen Sie Ihre Ergebnisse."
      ]
    },
    {
      "cell_type": "code",
      "execution_count": null,
      "id": "95c495aa-5e83-474b-98fa-8772df339386",
      "metadata": {},
      "outputs": [],
      "source": []
    },
    {
      "cell_type": "markdown",
      "id": "d9260754-baf5-45fd-b857-1a801d20f28c",
      "metadata": {},
      "source": [
        "---\n",
        "## Parametersuche\n",
        "\n",
        "Evaluieren Sie, wie sich Veränderungen der jeweiligen Kernelparameter auf die entsprechenden Klassifikationsergebnisse auswirken."
      ]
    },
    {
      "cell_type": "code",
      "execution_count": null,
      "id": "2b67ec33-5720-4a5f-917e-fdd807193ce4",
      "metadata": {},
      "outputs": [],
      "source": []
    }
  ],
  "metadata": {
    "kernelspec": {
      "display_name": "Python 3",
      "language": "python",
      "name": "python3"
    },
    "language_info": {
      "codemirror_mode": {
        "name": "ipython",
        "version": 3
      },
      "file_extension": ".py",
      "mimetype": "text/x-python",
      "name": "python",
      "nbconvert_exporter": "python",
      "pygments_lexer": "ipython3",
      "version": "3.11.1"
    },
    "vscode": {
      "interpreter": {
        "hash": "5238573367df39f7286bb46f9ff5f08f63a01a80960060ce41e3c79b190280fa"
      }
    }
  },
  "nbformat": 4,
  "nbformat_minor": 5
}
