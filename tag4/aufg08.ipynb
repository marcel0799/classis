{
  "cells": [
    {
      "cell_type": "markdown",
      "id": "19ca5827-7e1c-4b77-8b42-8c7bd5dc33d5",
      "metadata": {},
      "source": [
        "**Übung Mustererkennung** *WS 2022/23* -- *K. Brandenbusch,  Gernot A. Fink* -- *Technische Universität Dortmund, Lehrstuhl XII, Mustererkennung in eingebetteten Systemen*\n",
        "___\n",
        "# Aufgabe 8 (optional): Support Vector Machines - MNIST\n",
        "\n",
        "Die Leistungsfähigkeit der Support Vector Machines soll nun für das realistischere Szenario der Zeichenerkennung untersucht werden. \n",
        "Hierzu soll ein komplettes Klassifikationssystem für den MNIST-Datensatz erstellt werden.\n",
        "\n",
        "---"
      ]
    },
    {
      "cell_type": "markdown",
      "id": "9c0dab18-5d74-4906-8f32-010ca663e168",
      "metadata": {},
      "source": [
        "Zuerst müssen die benötigten Module importiert werden."
      ]
    },
    {
      "cell_type": "code",
      "execution_count": 1,
      "id": "213ed79f-6ebc-4d32-9513-906c78c15f45",
      "metadata": {},
      "outputs": [],
      "source": [
        "%load_ext autoreload\n",
        "%autoreload 2\n",
        "%matplotlib widget\n",
        "\n",
        "import sys\n",
        "import numpy as np\n",
        "from sklearn import svm\n",
        "\n",
        "# Uebergeordneten Ordner zum Pfad hinzufuegen, damit das common Package importiert werden kann\n",
        "if '..' not in sys.path:\n",
        "    sys.path.append('..')\n",
        "\n",
        "from common.classification import ClassificationEvaluator\n",
        "from common.data_provider import DataProvider\n",
        "\n",
        "\n",
        "#____________________________________\n",
        "import matplotlib.pyplot as plt  \n",
        "import matplotlib.cm as cm\n",
        "    \n",
        "def show_data(data, width=1):\n",
        "    \"\"\"\n",
        "    Stellt die Bilder in data zeilenweise dar. Nebeneinander werden width-viele\n",
        "    Bilder angezeigt. Die Gesamtanzahl der Bilder muss so gewaehlt sein, dass in jeder\n",
        "    Zeile width-viele Bilder dargestellt werden koennen.\n",
        "    Params:\n",
        "        data: Darzustellende Bilder als 2D-ndarray. Eine Zeile entspricht einem Bild.\n",
        "        width: Anzahl der Bilder einer Zeile in der Visualisierung. (default = 1)\n",
        "    \"\"\"\n",
        "    if len(data.shape) == 1:\n",
        "        data = data.reshape(1, data.shape[0])\n",
        "        image_count = 1\n",
        "    else:\n",
        "        image_count = data.shape[0]\n",
        "\n",
        "    image = []\n",
        "    for i in np.arange(width):\n",
        "        index = np.arange(i, image_count, width)\n",
        "        column = data[index, :]\n",
        "        image.append(column.reshape((28 * column.shape[0], 28)))\n",
        "    image = np.hstack(tuple(image))\n",
        "\n",
        "    fig = plt.figure()\n",
        "    ax = fig.add_subplot(111)\n",
        "    ax.imshow(image, cmap=cm.get_cmap('Greys_r'))\n",
        "    ax.set_xticks([])\n",
        "    ax.set_yticks([])\n",
        "    return ax"
      ]
    },
    {
      "cell_type": "markdown",
      "id": "ecbda4b5-04f3-4ef9-a571-f70788b3f07e",
      "metadata": {},
      "source": [
        "---\n",
        "## Lineare SVM auf Originaldaten\n",
        "\n",
        "Laden Sie zunächst die MNIST-Daten in Originalrepräsentation (784-D) und trainieren Sie eine lineare SVM mit den Standardparametern von sklearn."
      ]
    },
    {
      "cell_type": "code",
      "execution_count": 5,
      "id": "410b2d7d-75cd-4857-a53d-0c984cc1cc6a",
      "metadata": {},
      "outputs": [
        {
          "name": "stdout",
          "output_type": "stream",
          "text": [
            "Fehlerrate: 16.7; Anzahl falsch-klassifizierte Muster: 167; Anzahl Muster: 1000\n",
            "Klassenspezifische Fehlerraten\n",
            "Klasse 0:\tFehlerrate: 7.0;\tAnzahl falsch-klassifizierte Muster:   7;\tAnzahl Muster: 100\n",
            "Klasse 1:\tFehlerrate: 1.0;\tAnzahl falsch-klassifizierte Muster:   1;\tAnzahl Muster: 100\n",
            "Klasse 2:\tFehlerrate: 21.0;\tAnzahl falsch-klassifizierte Muster:  21;\tAnzahl Muster: 100\n",
            "Klasse 3:\tFehlerrate: 26.0;\tAnzahl falsch-klassifizierte Muster:  26;\tAnzahl Muster: 100\n",
            "Klasse 4:\tFehlerrate: 11.0;\tAnzahl falsch-klassifizierte Muster:  11;\tAnzahl Muster: 100\n",
            "Klasse 5:\tFehlerrate: 14.0;\tAnzahl falsch-klassifizierte Muster:  14;\tAnzahl Muster: 100\n",
            "Klasse 6:\tFehlerrate: 16.0;\tAnzahl falsch-klassifizierte Muster:  16;\tAnzahl Muster: 100\n",
            "Klasse 7:\tFehlerrate: 16.0;\tAnzahl falsch-klassifizierte Muster:  16;\tAnzahl Muster: 100\n",
            "Klasse 8:\tFehlerrate: 30.0;\tAnzahl falsch-klassifizierte Muster:  30;\tAnzahl Muster: 100\n",
            "Klasse 9:\tFehlerrate: 25.0;\tAnzahl falsch-klassifizierte Muster:  25;\tAnzahl Muster: 100\n"
          ]
        },
        {
          "name": "stderr",
          "output_type": "stream",
          "text": [
            "c:\\Program Files\\Python311\\Lib\\site-packages\\sklearn\\svm\\_base.py:1244: ConvergenceWarning: Liblinear failed to converge, increase the number of iterations.\n",
            "  warnings.warn(\n"
          ]
        },
        {
          "data": {
            "text/plain": [
              "'\\nimport common.visualization as visualization\\nimport matplotlib.pyplot as plt\\n\\n_, ax2 = plt.subplots(dpi=150) \\nvisualization.plot_svm(ax2, train_data, train_labels, new_svm)\\n'"
            ]
          },
          "execution_count": 5,
          "metadata": {},
          "output_type": "execute_result"
        }
      ],
      "source": [
        "train_data_provider = DataProvider(DataProvider.MNIST_TRAIN)\n",
        "test_data_provider = DataProvider(DataProvider.MNIST_TEST)\n",
        "train_data, train_labels = train_data_provider.get_dataset_and_labels()\n",
        "test_data, test_labels = test_data_provider.get_dataset_and_labels()\n",
        "\n",
        "new_svm = svm.LinearSVC()\n",
        "new_svm.fit(train_data,train_labels)\n",
        "calc_labels_new = new_svm.predict(test_data)\n",
        "\n",
        "classiEvali = ClassificationEvaluator(calc_labels_new, test_labels)\n",
        "classiEvali.print_results()\n",
        "\n",
        "\"\"\"\n",
        "import common.visualization as visualization\n",
        "import matplotlib.pyplot as plt\n",
        "\n",
        "_, ax2 = plt.subplots(dpi=150) \n",
        "visualization.plot_svm(ax2, train_data, train_labels, new_svm)\n",
        "\"\"\"\n"
      ]
    },
    {
      "cell_type": "markdown",
      "id": "0905e94c-b9a9-4127-9fa6-d80bef80d721",
      "metadata": {},
      "source": [
        "---\n",
        "## Lineare SVM auf PCA-reduzierten Daten\n",
        "\n",
        "Verwenden Sie an Stelle der 784-dimensionalen Originaldaten die Merkmalsrepraesentationen aus Tag 3. Die jeweiligen SVMs sollen auf der Basis einer linearen SVM mit soft-margin erstellt werden. Vergleichen Sie die Ergebnisse."
      ]
    },
    {
      "cell_type": "code",
      "execution_count": 16,
      "id": "fffed95e-db2e-45ef-9f79-5f980879fe3a",
      "metadata": {},
      "outputs": [
        {
          "name": "stdout",
          "output_type": "stream",
          "text": [
            "Fehlerrate: 40.6; Anzahl falsch-klassifizierte Muster: 406; Anzahl Muster: 1000\n",
            "Klassenspezifische Fehlerraten\n",
            "Klasse 0:\tFehlerrate: 23.0;\tAnzahl falsch-klassifizierte Muster:  23;\tAnzahl Muster: 100\n",
            "Klasse 1:\tFehlerrate: 2.0;\tAnzahl falsch-klassifizierte Muster:   2;\tAnzahl Muster: 100\n",
            "Klasse 2:\tFehlerrate: 58.0;\tAnzahl falsch-klassifizierte Muster:  58;\tAnzahl Muster: 100\n",
            "Klasse 3:\tFehlerrate: 39.0;\tAnzahl falsch-klassifizierte Muster:  39;\tAnzahl Muster: 100\n",
            "Klasse 4:\tFehlerrate: 32.0;\tAnzahl falsch-klassifizierte Muster:  32;\tAnzahl Muster: 100\n",
            "Klasse 5:\tFehlerrate: 79.0;\tAnzahl falsch-klassifizierte Muster:  79;\tAnzahl Muster: 100\n",
            "Klasse 6:\tFehlerrate: 25.0;\tAnzahl falsch-klassifizierte Muster:  25;\tAnzahl Muster: 100\n",
            "Klasse 7:\tFehlerrate: 28.0;\tAnzahl falsch-klassifizierte Muster:  28;\tAnzahl Muster: 100\n",
            "Klasse 8:\tFehlerrate: 47.0;\tAnzahl falsch-klassifizierte Muster:  47;\tAnzahl Muster: 100\n",
            "Klasse 9:\tFehlerrate: 73.0;\tAnzahl falsch-klassifizierte Muster:  73;\tAnzahl Muster: 100\n"
          ]
        },
        {
          "name": "stderr",
          "output_type": "stream",
          "text": [
            "c:\\Program Files\\Python311\\Lib\\site-packages\\sklearn\\svm\\_base.py:1244: ConvergenceWarning: Liblinear failed to converge, increase the number of iterations.\n",
            "  warnings.warn(\n"
          ]
        }
      ],
      "source": [
        "from common.pca import PCA\n",
        "pca_object = PCA(train_data)\n",
        "\n",
        "targetDim = 100 #90% varianz uebrig\n",
        "(samples_dim_reduced, error) = pca_object.transform_samples(train_data, target_dim=targetDim)\n",
        "(test_data_dim_reduced, error) = pca_object.transform_samples(test_data, target_dim=targetDim)\n",
        "samples_dim_reduced = np.real(samples_dim_reduced)\n",
        "test_data_dim_reduced = np.real(test_data_dim_reduced)\n",
        "\n",
        "pca_svm = svm.LinearSVC()\n",
        "pca_svm.fit(samples_dim_reduced,train_labels)\n",
        "calc_labels_pca = pca_svm.predict(test_data_dim_reduced)\n",
        "\n",
        "classiEvali = ClassificationEvaluator(calc_labels_pca, test_labels)\n",
        "classiEvali.print_results()\n",
        "\n"
      ]
    },
    {
      "cell_type": "markdown",
      "id": "0c5d9dc4-63c4-4dbe-8b4c-874a299a7935",
      "metadata": {},
      "source": [
        "---\n",
        "## Kernel SVM auf PCA-reduzierten Daten\n",
        "\n",
        "Variieren Sie die verwendete Kernelfunktion und vergleichen Sie Ihre Ergebnisse."
      ]
    },
    {
      "cell_type": "code",
      "execution_count": 27,
      "id": "95c495aa-5e83-474b-98fa-8772df339386",
      "metadata": {},
      "outputs": [
        {
          "name": "stdout",
          "output_type": "stream",
          "text": [
            "Fehlerrate: 18.5; Anzahl falsch-klassifizierte Muster: 185; Anzahl Muster: 1000\n",
            "Klassenspezifische Fehlerraten\n",
            "Klasse 0:\tFehlerrate: 15.0;\tAnzahl falsch-klassifizierte Muster:  15;\tAnzahl Muster: 100\n",
            "Klasse 1:\tFehlerrate: 1.0;\tAnzahl falsch-klassifizierte Muster:   1;\tAnzahl Muster: 100\n",
            "Klasse 2:\tFehlerrate: 21.0;\tAnzahl falsch-klassifizierte Muster:  21;\tAnzahl Muster: 100\n",
            "Klasse 3:\tFehlerrate: 29.0;\tAnzahl falsch-klassifizierte Muster:  29;\tAnzahl Muster: 100\n",
            "Klasse 4:\tFehlerrate: 24.0;\tAnzahl falsch-klassifizierte Muster:  24;\tAnzahl Muster: 100\n",
            "Klasse 5:\tFehlerrate: 22.0;\tAnzahl falsch-klassifizierte Muster:  22;\tAnzahl Muster: 100\n",
            "Klasse 6:\tFehlerrate: 11.0;\tAnzahl falsch-klassifizierte Muster:  11;\tAnzahl Muster: 100\n",
            "Klasse 7:\tFehlerrate: 17.0;\tAnzahl falsch-klassifizierte Muster:  17;\tAnzahl Muster: 100\n",
            "Klasse 8:\tFehlerrate: 19.0;\tAnzahl falsch-klassifizierte Muster:  19;\tAnzahl Muster: 100\n",
            "Klasse 9:\tFehlerrate: 26.0;\tAnzahl falsch-klassifizierte Muster:  26;\tAnzahl Muster: 100\n"
          ]
        }
      ],
      "source": [
        "pca_object = PCA(train_data)\n",
        "\n",
        "targetDim = 85 #90% varianz uebrig\n",
        "(samples_dim_reduced, error) = pca_object.transform_samples(train_data, target_dim=targetDim)\n",
        "(test_data_dim_reduced, error) = pca_object.transform_samples(test_data, target_dim=targetDim)\n",
        "samples_dim_reduced = np.real(samples_dim_reduced)\n",
        "test_data_dim_reduced = np.real(test_data_dim_reduced)\n",
        "\n",
        "pca_svm = svm.SVC(kernel='rbf')\n",
        "pca_svm.fit(samples_dim_reduced,train_labels)\n",
        "calc_labels_pca = pca_svm.predict(test_data_dim_reduced)\n",
        "\n",
        "classiEvali = ClassificationEvaluator(calc_labels_pca, test_labels)\n",
        "classiEvali.print_results()"
      ]
    },
    {
      "cell_type": "markdown",
      "id": "d9260754-baf5-45fd-b857-1a801d20f28c",
      "metadata": {},
      "source": [
        "---\n",
        "## Parametersuche\n",
        "\n",
        "Evaluieren Sie, wie sich Veränderungen der jeweiligen Kernelparameter auf die entsprechenden Klassifikationsergebnisse auswirken."
      ]
    },
    {
      "cell_type": "code",
      "execution_count": null,
      "id": "2b67ec33-5720-4a5f-917e-fdd807193ce4",
      "metadata": {},
      "outputs": [],
      "source": []
    }
  ],
  "metadata": {
    "kernelspec": {
      "display_name": "Python 3",
      "language": "python",
      "name": "python3"
    },
    "language_info": {
      "codemirror_mode": {
        "name": "ipython",
        "version": 3
      },
      "file_extension": ".py",
      "mimetype": "text/x-python",
      "name": "python",
      "nbconvert_exporter": "python",
      "pygments_lexer": "ipython3",
      "version": "3.11.1"
    },
    "vscode": {
      "interpreter": {
        "hash": "5238573367df39f7286bb46f9ff5f08f63a01a80960060ce41e3c79b190280fa"
      }
    }
  },
  "nbformat": 4,
  "nbformat_minor": 5
}
