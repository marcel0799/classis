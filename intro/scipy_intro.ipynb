{
  "cells": [
    {
      "cell_type": "markdown",
      "id": "13a97483-c35b-44e6-9300-498e21e412c5",
      "metadata": {},
      "source": [
        "**\u00dcbung Mustererkennung** *WS 2022/23* -- *K. Brandenbusch,  Gernot A. Fink* -- *Technische Universit\u00e4t Dortmund, Lehrstuhl XII, Mustererkennung in eingebetteten Systemen*\n",
        "___\n",
        "# Einf\u00fchrung in NumPy/Scipy und Matplotlib\n",
        "\n",
        "In diesen Einf\u00fchrungsaufgaben sollen Sie sich mit den grundlegenden Eigenschaften und Funktionen von *NumPy/SciPy* und *matplotlib* vertraut machen. Die Aufgaben sind dazu gedacht, Ihnen den Einstieg zu erleichtern.\n",
        "\n",
        "Sehr grosse Datenmengen lassen sich iterativ nicht effizient in Python verarbeiten. Dazu gibt es mit NumPy / SciPy eine Bibliothek, mit der numerische Berechnungen vektorisiert effizient durchgefuehrt werden k\u00f6nnen.\n",
        "Vektorisiert bedeutet dabei, dass Operationen auf gro\u00dfen Datenmengen direkt mit einzelnen Methodenaufrufen durchgef\u00fchrt werden und nicht \u00fcber Schleifen in Python Code umgesetzt werden.\n",
        "\n",
        "**ACHTUNG:** Diese Form der Programmierung unterscheidet sich DEUTLICH von dem was sie vielleicht aus C / C++ oder auch Java gewohnt sind."
      ]
    },
    {
      "cell_type": "markdown",
      "id": "1721e513-a269-4a5e-8512-ade496679a39",
      "metadata": {},
      "source": [
        "Zuerst importieren wir die ben\u00f6tigten Module."
      ]
    },
    {
      "cell_type": "code",
      "execution_count": 0,
      "id": "8f948207-f8ff-4cbb-b937-6df61f51193a",
      "metadata": {},
      "outputs": [],
      "source": [
        "%load_ext autoreload\n",
        "%autoreload 2\n",
        "\n",
        "import numpy as np\n",
        "import sys\n",
        "# Uebergeordneten Ordner zum Pfad hinzufuegen, damit das common Package importiert werden kann\n",
        "if '..' not in sys.path:\n",
        "    sys.path.append('..')\n",
        "\n",
        "from common.python_intro_functions import RandomArrayGenerator, bar_plot\n",
        "from common.data_provider import DataProvider"
      ]
    },
    {
      "cell_type": "markdown",
      "id": "20e4cbaf-51ca-493a-b779-6b46b0d2bbc0",
      "metadata": {},
      "source": [
        "## NumPy/Scipy"
      ]
    },
    {
      "cell_type": "markdown",
      "id": "866485d0-8f11-469c-b1f6-3d6ef4eb878b",
      "metadata": {},
      "source": [
        "---\n",
        "### Initialisierung\n",
        "\n",
        "Die elementare Datenstruktur ist das [ndarray](https://numpy.org/doc/stable/reference/generated/numpy.ndarray.html). Ein neues ndarray erstellt man zum Beispiel aus einer Python Liste. "
      ]
    },
    {
      "cell_type": "code",
      "execution_count": 0,
      "id": "7c921e2e-5ee7-4743-907a-81d9b82602d6",
      "metadata": {},
      "outputs": [],
      "source": [
        "rand_list = [1, 3, 5, 2, 7, 4, 9, 0, 6]\n",
        "rand_arr = np.array(rand_list)\n",
        "print(type(rand_arr))"
      ]
    },
    {
      "cell_type": "markdown",
      "id": "6446e9f3-e175-4c19-b8f9-6961d79b750a",
      "metadata": {},
      "source": [
        "Ein Array, welches mit Nullen gef\u00fcllt ist, erstellt man mit der [zeros()](http://docs.scipy.org/doc/numpy/reference/generated/numpy.zeros.html) Funktion.\n",
        "\n",
        "Eine fortlaufende Sequenz (analog zu range()) kann mit der [arange()](https://numpy.org/doc/stable/reference/generated/numpy.arange.html) Funktion erstellt werden."
      ]
    },
    {
      "cell_type": "code",
      "execution_count": 0,
      "id": "9284eea6-c389-4a8f-9a73-4b8290f264ce",
      "metadata": {},
      "outputs": [],
      "source": [
        "zeros_arr = np.zeros((3, 3))\n",
        "print(zeros_arr)\n",
        "\n",
        "seq_arr = np.arange(100).reshape(10, 10)\n",
        "print(seq_arr.shape)\n",
        "print(seq_arr)"
      ]
    },
    {
      "cell_type": "markdown",
      "id": "11e57417-50aa-4dc2-b419-5c4fa9710710",
      "metadata": {
        "tags": []
      },
      "source": [
        "---\n",
        "### Zugriffsfunktionen und Slicing\n",
        "Im folgenden schauen wir uns Zugriffsfunktionen f\u00fcr ndarrays an. Hierbei sind besonders [indirekte Addressierung und Slicing](https://numpy.org/doc/stable/reference/arrays.indexing.html) wichtige Themen."
      ]
    },
    {
      "cell_type": "markdown",
      "id": "a11b341e-eb6f-4e01-99ba-32f285df6cbd",
      "metadata": {},
      "source": [
        "(1) Geben Sie die obere (3, 2) Matrix aus."
      ]
    },
    {
      "cell_type": "code",
      "execution_count": 0,
      "id": "0646ad5e-f4ad-4ed8-b60a-d9feb160b83d",
      "metadata": {},
      "outputs": [],
      "source": []
    },
    {
      "cell_type": "markdown",
      "id": "67a5677e-2d95-42a3-804a-977925825501",
      "metadata": {},
      "source": [
        "(2) Geben Sie die untere (3, 3) Matrix aus."
      ]
    },
    {
      "cell_type": "code",
      "execution_count": 0,
      "id": "5f8d5c15-04f7-4eaf-b3f4-1ccb074a8cb5",
      "metadata": {},
      "outputs": [],
      "source": []
    },
    {
      "cell_type": "markdown",
      "id": "7822ecce-847f-4a94-912a-f08445d752ac",
      "metadata": {},
      "source": [
        "(3) Geben Sie die 4. Zeile aus."
      ]
    },
    {
      "cell_type": "code",
      "execution_count": 0,
      "id": "90ce0790-a7c7-4ae0-a1b0-9a7110d463fb",
      "metadata": {},
      "outputs": [],
      "source": []
    },
    {
      "cell_type": "markdown",
      "id": "a0226020-20b4-4b0e-b13f-785d7491666e",
      "metadata": {},
      "source": [
        "(4) Geben Sie jede ungerade Spalte aus, also Spalten 1, 3, ... Verwenden sie dabei slicing mit step=2."
      ]
    },
    {
      "cell_type": "code",
      "execution_count": 0,
      "id": "5708e1f7-fb13-4381-adbf-fe6796bc4bc1",
      "metadata": {},
      "outputs": [],
      "source": []
    },
    {
      "cell_type": "markdown",
      "id": "1e6bf99b-91d1-47b7-994a-31f458615948",
      "metadata": {},
      "source": [
        "(5) Geben Sie die Spalten mit Index 2, 3, 6, 7 aus."
      ]
    },
    {
      "cell_type": "code",
      "execution_count": 0,
      "id": "48bd65bd-c38f-4730-9a85-94db151896d7",
      "metadata": {},
      "outputs": [],
      "source": []
    },
    {
      "cell_type": "markdown",
      "id": "be3ea9b5-cadb-48bb-931b-929026ac3928",
      "metadata": {},
      "source": [
        "---\n",
        "### Boolean Indexing\n",
        "\n",
        "Setzen Sie nun alle ungeraden Elemente des ndarray seq_arr auf 0 und geben Sie das Ergebnis aus."
      ]
    },
    {
      "cell_type": "code",
      "execution_count": 0,
      "id": "929051df-36c9-4882-ad37-a6fc0e119b9c",
      "metadata": {},
      "outputs": [],
      "source": []
    },
    {
      "cell_type": "markdown",
      "id": "9585b904-0c19-4117-b577-7a2fd37517e9",
      "metadata": {},
      "source": [
        "---\n",
        "### Mathematische Operation\n",
        "\n",
        "Verwenden Sie dazu die Operatorn +, *  und [np.dot](https://numpy.org/doc/stable/reference/generated/numpy.dot.html) in geeigneter Weise."
      ]
    },
    {
      "cell_type": "markdown",
      "id": "bfb30872-fb2d-48a5-bbae-43e175f35b4e",
      "metadata": {},
      "source": [
        "(1) Geben Sie die Summe der ersten beiden Zeilen spaltenweise aus."
      ]
    },
    {
      "cell_type": "code",
      "execution_count": 0,
      "id": "5967cd6a-95f9-4626-8e7d-67f524c92013",
      "metadata": {},
      "outputs": [],
      "source": []
    },
    {
      "cell_type": "markdown",
      "id": "b290ddd8-c928-4ac8-a4e3-6908f0c02c59",
      "metadata": {},
      "source": [
        "(2) Geben Sie das Produkt der ersten beiden Zeilen spaltenweise aus."
      ]
    },
    {
      "cell_type": "code",
      "execution_count": 0,
      "id": "2892ede8-4e55-416c-a60f-2774b618a906",
      "metadata": {},
      "outputs": [],
      "source": []
    },
    {
      "cell_type": "markdown",
      "id": "b85560ad-f3a6-472d-b553-c26356eedfab",
      "metadata": {},
      "source": [
        "(3) Geben Sie das Skalarprodukt der ersten beiden Zeilen aus."
      ]
    },
    {
      "cell_type": "code",
      "execution_count": 0,
      "id": "cd06cb9a-6f75-4a8e-b798-6e3f61cf42f4",
      "metadata": {},
      "outputs": [],
      "source": []
    },
    {
      "cell_type": "markdown",
      "id": "08f290c3-575a-40a9-acbc-a3424822f96a",
      "metadata": {},
      "source": [
        "---\n",
        "### Wichtige Funktionen\n",
        "\n",
        "Nun schauen wir uns noch einige wichtige NumPy Funktionen an.\n",
        "\n",
        "(1) Bestimmen Sie in dem ndarray *seq_arr* in jeder Zeile das gr\u00f6\u00dfte Element\n",
        "und seinen Index. Geben Sie die Ergebnisse aus.\n",
        "\n",
        "Hinweis: Achten Sie dabei auf die korrekte Wahl des *axis*-Arguments!\n",
        "\n",
        "N\u00fctzliche Funktionen:\n",
        "- [np.max / np.amax](https://numpy.org/doc/stable/reference/generated/numpy.amax.html)\n",
        "- [np.argmax](https://numpy.org/doc/stable/reference/generated/numpy.argmax.html)"
      ]
    },
    {
      "cell_type": "code",
      "execution_count": 0,
      "id": "b7a29cba-8bc1-452f-b7f7-bc508b62cf65",
      "metadata": {},
      "outputs": [],
      "source": []
    },
    {
      "cell_type": "markdown",
      "id": "f819c1f6-e323-41b0-8b64-c9f56c9a5e32",
      "metadata": {},
      "source": [
        "(2) Bestimmen Sie die Summe und den Mittelwert entlang jeder Zeile.\n",
        "\n",
        "N\u00fctzliche Funktionen:\n",
        "- [np.sum](https://numpy.org/doc/stable/reference/generated/numpy.sum.html)\n",
        "- [np.mean](https://numpy.org/doc/stable/reference/generated/numpy.mean.html)"
      ]
    },
    {
      "cell_type": "code",
      "execution_count": 0,
      "id": "0d6fb9e7-60fb-4448-b633-fcbdc4cc1c47",
      "metadata": {},
      "outputs": [],
      "source": []
    },
    {
      "cell_type": "markdown",
      "id": "8dda9231-0476-4c83-8c4f-076df86b8caf",
      "metadata": {},
      "source": [
        "---\n",
        "## Matplotlib\n",
        "\n",
        "H\u00e4ufig kann es sehr hilfreich sein, Daten und deren Verteilung zu visualisieren. Hierf\u00fcr bietet sich die Verwendung der Bibliothek matplotlib an.\n",
        "\n",
        "In Kombination mit JupyterLab oder Jupyter Notebooks k\u00f6nnen mit Hilfe von Magic Commands [verschiedene Backends f\u00fcr matplotlib](https://ipython.readthedocs.io/en/stable/interactive/magics.html#magic-matplotlib) gew\u00e4hlt werden. F\u00fcr JupyterLab empfiehlt sich die Verwendung von `%matplotlib widget` (erfordert das [ipympl](https://jupyter-tutorial.readthedocs.io/de/latest/workspace/jupyter/ipywidgets/libs/ipympl.html) package).\n",
        "\n",
        "Hinweis: Normalerweise w\u00fcrde man diese Imports ebenfalls am Anfang des Skripts platzieren.\n"
      ]
    },
    {
      "cell_type": "code",
      "execution_count": 0,
      "id": "65dffb6a-8754-48d4-8578-434194d7a765",
      "metadata": {},
      "outputs": [],
      "source": [
        "import matplotlib.pyplot as plt\n",
        "\n",
        "%matplotlib widget"
      ]
    },
    {
      "cell_type": "markdown",
      "id": "54927e20-ef67-4742-85aa-a66c094ed77d",
      "metadata": {},
      "source": [
        "Zun\u00e4chst schauen wir uns noch ein etwas komplexeres Beispiel f\u00fcr NumPy Funktionen an und visualisieren die Ergebnisse mit matplotlib. \n",
        "\n",
        "Die folgenden Arrays enthalten normalverteilte und gleichverteilte Zufallszahlen."
      ]
    },
    {
      "cell_type": "code",
      "execution_count": 0,
      "id": "417c5b72-9463-4036-9ed3-871f89318686",
      "metadata": {},
      "outputs": [],
      "source": [
        "rand_arr_gen = RandomArrayGenerator()\n",
        "rand_arr_gauss = rand_arr_gen.rand_gauss(arr_shape=(50000,), mean=50, std_deviation=10)\n",
        "rand_arr_unif = rand_arr_gen.rand_uniform(arr_shape=(10000, 50), min_elem=0.5, max_elem=10.5)"
      ]
    },
    {
      "cell_type": "markdown",
      "id": "ca1fe332-518f-4b84-8aca-3a4d5e3a0a65",
      "metadata": {},
      "source": [
        "Runden Sie die Elemente der Arrays (ganzzahlig) und erstellen sie jeweils Histogramme. Um das Histogramm f\u00fcr rand_arr_unif zu erstellen, linearisieren Sie die Matrix zun\u00e4chst. (Verwenden Sie reshape mit shape Parameter -1.)\n",
        "\n",
        "Plotten Sie die Ergebnisse mit matplotlib. Erstellen Sie dazu eine neue Figure inkl. Axis und verwenden Sie dazu die Methode *bar_plot* aus dem Modul [common.python_intro_functions](../common/python_intro_functions.py) um darin zu plotten.\n",
        "\n",
        "N\u00fctzliche Funktionen:\n",
        "- [np.around](http://docs.scipy.org/doc/numpy/reference/generated/numpy.around.html)\n",
        "- [np.bincount](http://docs.scipy.org/doc/numpy/reference/generated/numpy.bincount.html)\n",
        "- [np.reshape](http://docs.scipy.org/doc/numpy/reference/generated/numpy.reshape.html)\n",
        "- [plt.subplots](https://matplotlib.org/stable/api/_as_gen/matplotlib.pyplot.subplots.html)"
      ]
    },
    {
      "cell_type": "code",
      "execution_count": 0,
      "id": "f4ffbdcb-a1f3-4edc-b78a-c45df55d421e",
      "metadata": {},
      "outputs": [],
      "source": []
    },
    {
      "cell_type": "markdown",
      "id": "4adfc5bc-ed6a-4892-a0f9-b15432bee161",
      "metadata": {},
      "source": [
        "Bilden Sie nun die zeilenweisen Summen \u00fcber das ndarray mit den gleichverteilten Zufallszahlen \n",
        "(rand_arr_unif). Berechnen und visualisieren Sie das Histogramm wie zuvor. Erkl\u00e4ren Sie das Ergebnis."
      ]
    },
    {
      "cell_type": "code",
      "execution_count": 0,
      "id": "a2c0357e-4e14-48c0-974e-fdae9d166107",
      "metadata": {},
      "outputs": [],
      "source": []
    },
    {
      "cell_type": "markdown",
      "id": "3c5a6b8d-81b1-45ac-bce7-62e2fdd72c5a",
      "metadata": {
        "tags": []
      },
      "source": [
        "---\n",
        "## Datenvisualisierung\n",
        "\n",
        "Als n\u00e4chstes befassen wir uns mit einem der Datens\u00e4tze f\u00fcr die kommenden Aufgaben. Hierzu steht die `DataProvider` Klasse aus dem Modul [common.data_provider](../common/data_provider.py) zur Verf\u00fcgung. Die Klasse ist bereit importiert. Als Argument wird der Pfad zum Datensatz erwartet. Die Standardpfade f\u00fcr den data2d Datensatz, mit dem wir und im Folgenden befassen m\u00f6chten, und dem MNIST Datensatz sind als Klassenattribute gegeben. Falls Sie die Daten an einem anderen Pfad gespeichert haben, m\u00fcssen Sie die Pfade entsprechend anpassen.\n",
        "\n",
        "Wahlweise k\u00f6nnen die Beipiele einzelner Klasse (`get_class_arr`), die Beispiele aller Klassen (mit `get_dataset_arr`) oder die Beispiele gew\u00e4hlter Klassen mit Labels (mit `get_dataset_and_labels`) zur\u00fcckgegeben werden.\n",
        "\n",
        "Beachten Sie, dass die Labels als Strings zur\u00fcckgegeben werden!\n",
        "\n",
        "Laden Sie hier die Trainingsdaten aller Klassen mit Labels und die Testdaten ohne Labels.\n",
        "\n",
        "Hinweis: Hierzu ben\u00f6tigen Sie zwei Instanzen des DataProviders."
      ]
    },
    {
      "cell_type": "code",
      "execution_count": 0,
      "id": "4dd74ba2-1005-431a-871a-4c13132f1299",
      "metadata": {},
      "outputs": [],
      "source": []
    },
    {
      "cell_type": "markdown",
      "id": "37ab3579-07d3-454c-8440-37b3c8c54783",
      "metadata": {},
      "source": [
        "Erstellen Sie nun einen Plot mit zwei Axes. Plotten Sie in der ersten Axis die Beispiele des Trainingsdatensatzes und markieren Sie farblich deren Zuordnung zu Klassen. Laden Sie dazu zun\u00e4chst die Beispiele jeder Klasse einzeln und plotten diese jeweils in dieselbe Axis. Verwenden das gegebene class_colors Array zum einf\u00e4rben der Punkte und erstellen Sie eine Legende zur Farbzuordnung.\n",
        "Die Kanten der Punkte k\u00f6nne Sie mit `edgecolor='k'` schwarz f\u00e4rben.\n",
        "\n",
        "Plotten Sie in der rechen Axis die Testdaten (farblos, bzw wei\u00df). Geben Sie beiden Plots entsprechende Titel.\n",
        "\n",
        "N\u00fctzliche Funktionen/Links:\n",
        "- [plt.subplots](https://matplotlib.org/stable/api/_as_gen/matplotlib.pyplot.subplots.html)\n",
        "- [Axes.scatter](https://matplotlib.org/stable/api/_as_gen/matplotlib.axes.Axes.scatter.html)\n",
        "- [Axes.legend](https://matplotlib.org/stable/api/_as_gen/matplotlib.pyplot.legend.html)\n",
        "- [Farben in matplotlib](https://matplotlib.org/stable/tutorials/colors/colors.html)"
      ]
    },
    {
      "cell_type": "code",
      "execution_count": 0,
      "id": "aa52492c-d5a0-4c3b-bebf-77e77becf614",
      "metadata": {},
      "outputs": [],
      "source": [
        "# Farben fuer die 3 Klassen in RGBA float\n",
        "class_colors = np.asarray(((0.9, 0.1, 0.1, 1.0),\n",
        "                           (0.1, 0.7, 0.2, 1.0),\n",
        "                           (0.1, 0.3, 0.8, 1.0)))\n",
        "\n"
      ]
    },
    {
      "cell_type": "markdown",
      "id": "4853214f-04d8-445b-a269-2c5e1998ae58",
      "metadata": {},
      "source": [
        "Zuvor haben Sie eine Plot aktualisiert und die Beispiele der Klassen nacheinander geplottet. Laden sie nun den gesamten Datensatz mit Labels. \u00dcberlegen Sie, wie sie alle Beispiele farblich gekennzeichnet mit nur einem einzigen Aufruf plotten k\u00f6nnen. Erstellen Sie dazu eine neue Figure mit Axis. Hierbei brauchen Sie keine Legende zu erstellen.\n",
        "\n",
        "N\u00fctzliche Funktionen/Links:\n",
        "- [ndarray.astype](https://numpy.org/doc/stable/reference/generated/numpy.ndarray.astype.html)\n",
        "- [plt.subplots](https://matplotlib.org/stable/api/_as_gen/matplotlib.pyplot.subplots.html)\n",
        "- [Axes.scatter](https://matplotlib.org/stable/api/_as_gen/matplotlib.axes.Axes.scatter.html)"
      ]
    },
    {
      "cell_type": "code",
      "execution_count": 0,
      "id": "d8202781-2271-44a0-b7e4-27d93edc5cba",
      "metadata": {},
      "outputs": [],
      "source": []
    }
  ],
  "metadata": {
    "kernelspec": {
      "display_name": "Python 3",
      "language": "python",
      "name": "python3"
    },
    "language_info": {
      "codemirror_mode": {
        "name": "ipython",
        "version": 3
      },
      "file_extension": ".py",
      "mimetype": "text/x-python",
      "name": "python",
      "nbconvert_exporter": "python",
      "pygments_lexer": "ipython3",
      "version": "3.8.10"
    }
  },
  "nbformat": 4,
  "nbformat_minor": 5
}