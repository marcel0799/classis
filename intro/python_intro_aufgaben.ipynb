{
  "cells": [
    {
      "cell_type": "markdown",
      "metadata": {},
      "source": [
        "**\u00dcbung Mustererkennung** *WS 2022/23* -- *K. Brandenbusch,  Gernot A. Fink* -- *Technische Universit\u00e4t Dortmund, Lehrstuhl XII, Mustererkennung in eingebetteten Systemen*\n",
        "___\n",
        "# Einf\u00fchrung in Python\n",
        "\n",
        "In diesen Einf\u00fchrungsaufgaben sollen Sie sich mit den grundlegenden Eigenschaften und Funktionen von *Python* vertraut machen. Die Aufgaben sind dazu gedacht, Ihnen den Einstieg zu erleichtern."
      ]
    },
    {
      "cell_type": "markdown",
      "metadata": {},
      "source": [
        "### Imports\n",
        "_________\n",
        "\n",
        "Zuerst m\u00fcssem wir die in dienem Skript ben\u00f6tigten Packages, Module, Klassen und Funktionen importieren. Der Python Interpreter durchsucht dazu alle Verzeichnisse im sogenannten `PYTHONPATH` (ist \u00fcberlicherweise als Umgebungsvariable definiert). Da das Verzeichnis *patrec* mit dem *common* Package nicht darin steht, k\u00f6nnen wir dies auch im Code nachtr\u00e4glich dem Pfad hinzuf\u00fcgen. Anschlie\u00dfend k\u00f6nnen wir auch aus dem *common* Package importieren.\n",
        "\n",
        "Zu den normalen Python Imports sind werden im Folgenden auch sogenannte [magic commands](https://ipython.readthedocs.io/en/stable/interactive/magics.html) aufgerugen. Wir laden die Erweiterung *autoreload* und setzen den Modus *2*. Dies ben\u00f6tigen wir, damit IPython (welches von Jupyter verwendet wird) die importieren Module bei jeder Codeausf\u00fchrung neu l\u00e4dt. Dies ist wichtig, wenn man nachtr\u00e4glich den Code einer importieren Klasse oder Methode ver\u00e4ndert. Somit kann diese direkt aufgerufen werden, ohne dass diese vorher explizit neu importiert werden muss."
      ]
    },
    {
      "cell_type": "code",
      "execution_count": 0,
      "metadata": {
        "scrolled": true
      },
      "outputs": [],
      "source": [
        "%load_ext autoreload\n",
        "%autoreload 2\n",
        "import sys\n",
        "\n",
        "# Uebergeordneten Ordner zum Pfad hinzufuegen, damit das common Package importiert werden kann\n",
        "if '..' not in sys.path:\n",
        "    sys.path.append('..')\n",
        "import numpy as np\n",
        "from common.python_intro_functions import RandomArrayGenerator"
      ]
    },
    {
      "cell_type": "markdown",
      "metadata": {
        "tags": []
      },
      "source": [
        "### I. Elementare Datenstrukturen\n",
        "_________"
      ]
    },
    {
      "cell_type": "markdown",
      "metadata": {
        "jp-MarkdownHeadingCollapsed": true,
        "tags": []
      },
      "source": [
        "Variablen sind dynamisch getypt."
      ]
    },
    {
      "cell_type": "code",
      "execution_count": 0,
      "metadata": {},
      "outputs": [],
      "source": [
        "# Int\n",
        "variable = 1\n",
        "print(type(variable))\n",
        "    \n",
        "# Float\n",
        "variable = 1.0\n",
        "print(type(variable))\n",
        "    \n",
        "# string\n",
        "variable = '1.0'\n",
        "print(type(variable))"
      ]
    },
    {
      "cell_type": "markdown",
      "metadata": {},
      "source": [
        "### II. Datenstrukturen f\u00fcr Sequenzen\n",
        "_______"
      ]
    },
    {
      "cell_type": "markdown",
      "metadata": {},
      "source": [
        "#### Tuple"
      ]
    },
    {
      "cell_type": "code",
      "execution_count": 0,
      "metadata": {},
      "outputs": [],
      "source": [
        "variable = (1, 1.0, '1.0')\n",
        "print(type(variable))"
      ]
    },
    {
      "cell_type": "markdown",
      "metadata": {},
      "source": [
        "\u00dcberpr\u00fcfen Sie, ob sich Objekte mit den Werten **42** oder **23** in dem *tuple* variable** befinden. Verwenden Sie dazu *if-elif-else* Abfragen mit den [konditionalen Ausdr\u00fccken](https://docs.python.org/3/library/stdtypes.html#boolean-operations-and-or-not) *or*, [*in* oder *not in*](https://docs.python.org/3/library/stdtypes.html#sequence-types-list-tuple-range).\n",
        "Geben Sie das Ergebnis mit *print* auf der Konsole aus."
      ]
    },
    {
      "cell_type": "code",
      "execution_count": 0,
      "metadata": {},
      "outputs": [],
      "source": []
    },
    {
      "cell_type": "markdown",
      "metadata": {},
      "source": [
        "Wichtig: *string* und *tuple* sind nicht ver\u00e4nderbar (immutable). *tuple* eigenen sich somit sehr gut als Container zum \u00fcbergeben/zur\u00fcckgeben von Werten in/aus Funktionen."
      ]
    },
    {
      "cell_type": "code",
      "execution_count": 0,
      "metadata": {},
      "outputs": [],
      "source": [
        "try:\n",
        "    variable[0] = 2\n",
        "except TypeError as err:\n",
        "    print('Damit haben wir gerechnet...')\n",
        "    print(err)"
      ]
    },
    {
      "cell_type": "markdown",
      "metadata": {},
      "source": [
        "Warum ist das ein Vorteil?\n",
        "\n",
        "**Antwort:**"
      ]
    },
    {
      "cell_type": "markdown",
      "metadata": {},
      "source": []
    },
    {
      "cell_type": "markdown",
      "metadata": {},
      "source": [
        "#### Listen"
      ]
    },
    {
      "cell_type": "markdown",
      "metadata": {},
      "source": [
        "Im Gegensatz zu tuple ist der list Datentyp ver\u00e4nderbar (mutable)."
      ]
    },
    {
      "cell_type": "code",
      "execution_count": 0,
      "metadata": {},
      "outputs": [],
      "source": [
        "# list\n",
        "variable = [1, 1.0, '1.0'] \n",
        "print(type(variable))\n",
        "variable[0] = 2\n",
        "print(variable)"
      ]
    },
    {
      "cell_type": "markdown",
      "metadata": {},
      "source": [
        "Machen Sie sich mit Zugriffsmethoden fuer list / tuple Objekte vertraut. Dazu verwenden wir eine etwas l\u00e4ngere Liste.<br>\n",
        "Mit [list](https://docs.python.org/3/library/functions.html#func-list)([range](https://docs.python.org/3/library/functions.html#range)()) kann eine fortlaufende Liste von int Objekten erzeugt werden.\n",
        "        \n",
        "\n"
      ]
    },
    {
      "cell_type": "code",
      "execution_count": 0,
      "metadata": {},
      "outputs": [],
      "source": [
        "test_list = list(range(10, 33, 2))\n",
        "print(test_list)"
      ]
    },
    {
      "cell_type": "markdown",
      "metadata": {},
      "source": [
        "Bestimmen Sie die Anzahl von Elementen in der Liste mit [len](https://docs.python.org/3/library/functions.html#len):"
      ]
    },
    {
      "cell_type": "code",
      "execution_count": 0,
      "metadata": {},
      "outputs": [],
      "source": []
    },
    {
      "cell_type": "markdown",
      "metadata": {},
      "source": [
        "Geben Sie:\n",
        "\n",
        "- das erste, letzte und vorletzte Element\n",
        "- das erste, zweite und letzte Drittel \n",
        "\n",
        "mit Hilfe von [list slicing](https://docs.python.org/3/tutorial/introduction.html#lists) aus. Auf das letzte Element greifen Sie mit -1 zu.<br>\n",
        "Achten Sie auf den Datentyp, den sie bei der Berechnung der Indexposition verwenden. Verwenden Sie [int()](https://docs.python.org/3/library/functions.html#int), [float()](https://docs.python.org/3/library/functions.html#float) f\u00fcr Typecasts."
      ]
    },
    {
      "cell_type": "markdown",
      "metadata": {},
      "source": [
        "Zugriff auf der erste, letze, letzte und vorletzte Element"
      ]
    },
    {
      "cell_type": "code",
      "execution_count": 0,
      "metadata": {},
      "outputs": [],
      "source": []
    },
    {
      "cell_type": "markdown",
      "metadata": {},
      "source": [
        "Zugriff auf die Drittel"
      ]
    },
    {
      "cell_type": "code",
      "execution_count": 0,
      "metadata": {},
      "outputs": [],
      "source": []
    },
    {
      "cell_type": "markdown",
      "metadata": {
        "tags": []
      },
      "source": [
        "### Schleifen"
      ]
    },
    {
      "cell_type": "markdown",
      "metadata": {
        "tags": []
      },
      "source": [
        "Wenn Sie mit einzelnen Elementen eines list / tuple Objekts arbeiten, k\u00f6nnen Sie eine [for Schleife](https://docs.python.org/3/tutorial/controlflow.html#for-statements) verwenden.<br>\n",
        "Geben Sie die Elemente von test_list einzeln in einer for-Schleife aus.<br>\n",
        "Wenn Sie zus\u00e4tzlich mit dem Index eines Elements arbeiten wollen verwenden Sie [enumerate()](https://docs.python.org/3/library/functions.html#enumerate)."
      ]
    },
    {
      "cell_type": "code",
      "execution_count": 0,
      "metadata": {
        "pycharm": {
          "name": "#%%\n"
        }
      },
      "outputs": [],
      "source": []
    },
    {
      "cell_type": "markdown",
      "metadata": {},
      "source": [
        "Geben Sie in der Schleife zu jedem Element noch dessen Index aus."
      ]
    },
    {
      "cell_type": "code",
      "execution_count": 0,
      "metadata": {},
      "outputs": [],
      "source": []
    },
    {
      "cell_type": "markdown",
      "metadata": {},
      "source": [
        "### III. Komplexere Operationen auf Sequenzen\n",
        "_________"
      ]
    },
    {
      "cell_type": "markdown",
      "metadata": {},
      "source": [
        "Kommen wir nun noch einmal zu dem initialen Beispiel zurueck."
      ]
    },
    {
      "cell_type": "code",
      "execution_count": 0,
      "metadata": {},
      "outputs": [],
      "source": [
        "test_list = [1, 1.0, '1.0']"
      ]
    },
    {
      "cell_type": "markdown",
      "metadata": {},
      "source": [
        "Geben Sie nun den Inhalt des list Objekts in folgender Form in der Konsole aus: [ <type: value>, ... ]. Also konkret f\u00fcr unser Beispiel: [ <int: 1>, <float: 1.0>, <string, 1.0> ]. Verwenden Sie dazu eine for Schleife und die Methoden [type(obj)](https://docs.python.org/3/library/functions.html#type).__name__ und [str()](https://docs.python.org/3/library/functions.html#func-str).\n",
        "    \n",
        "Konstruieren Sie einen string, den Sie am Ende ausgeben. Zwei strings lassen sich mit + konkatenieren. \n",
        "SEHR SCHLECHTER STIL (siehe unten)."
      ]
    },
    {
      "cell_type": "code",
      "execution_count": 0,
      "metadata": {},
      "outputs": [],
      "source": []
    },
    {
      "cell_type": "markdown",
      "metadata": {},
      "source": [
        "Leider ist das Konkatenieren von strings mit + sehr ineffizient. Da strings nicht ver\u00e4nderbar sind (immutable), muss jedesmal neuer Speicher reserviert werden und der Inhalt des alten Speichers kopiert werden.<br>\n",
        "Stattdessen verf\u00fcgen strings \u00fcber eine [join()](https://docs.python.org/3/library/string.html#string.join) Funktion. Dieser \u00fcbergibt man die zu konkatenierenden strings als Sequenz (z.B. tuple oder list).<br>\n",
        "Da wir unsere Datenstruktur iterativ aufbauen wollen und tuple nach der Erzeugung nicht ver\u00e4nderbar sind, verwenden wir eine [Liste](https://docs.python.org/3/tutorial/introduction.html#lists \"Python List tutorial\").\n",
        "\n",
        "Ein einfache und effiziente Methode strings zu formatieren bietet der [%-Operator](https://docs.python.org/3/library/stdtypes.html#old-string-formatting) f\u00fcr strings. Beispeil:<br>\n",
        "`type_val_str = '<%s, %s>' % (obj_type.__name__, obj)`\n",
        "\n",
        "Alternativ k\u00f6nnen strings auch mit der [format()](https://docs.python.org/3/tutorial/inputoutput.html#the-string-format-method) Funktion formatiert werden. Beispiel:<br>\n",
        "`type_val_str = '<{}: {}>'.format(obj_type.__name__, obj)`\n",
        "\n",
        "Auf diese Weise l\u00e4sst sich der + Operator zur Konkatenation von strings komplett vermeiden."
      ]
    },
    {
      "cell_type": "code",
      "execution_count": 0,
      "metadata": {},
      "outputs": [],
      "source": []
    },
    {
      "cell_type": "markdown",
      "metadata": {},
      "source": [
        "### IV. List Comprehensions\n",
        "_________"
      ]
    },
    {
      "cell_type": "markdown",
      "metadata": {},
      "source": [
        "Eine effiziente und sehr m\u00e4chtige Methode zum Generieren von Listen sind [list comprehensions](https://docs.python.org/3/tutorial/datastructures.html#list-comprehensions).\n",
        "\n",
        "Erstellen Sie gem\u00e4\u00df des vorherigen Beispiels eine Liste mit Typenamen f\u00fcr die Elemente in *test_list*. "
      ]
    },
    {
      "cell_type": "code",
      "execution_count": 0,
      "metadata": {},
      "outputs": [],
      "source": []
    },
    {
      "cell_type": "markdown",
      "metadata": {},
      "source": [
        "Verwenden Sie dann die [zip()](https://docs.python.org/3/library/functions.html#zip) Methode, um eine Liste von tuple Ojekten der Form [(type_name,obj),...] zu erhalten."
      ]
    },
    {
      "cell_type": "code",
      "execution_count": 0,
      "metadata": {},
      "outputs": [],
      "source": []
    },
    {
      "cell_type": "markdown",
      "metadata": {},
      "source": [
        "Verwenden Sie diese Liste mit einer list comprehension, um wieder eine Liste von strings der Form \n",
        "<obj_type_name, obj> zu erzeugen. Das Ergbnis k\u00f6nnen Sie dann wieder mit string.join() ausgeben."
      ]
    },
    {
      "cell_type": "code",
      "execution_count": 0,
      "metadata": {},
      "outputs": [],
      "source": []
    },
    {
      "cell_type": "markdown",
      "metadata": {},
      "source": [
        "### V. Dictionaries\n",
        "_________"
      ]
    },
    {
      "cell_type": "markdown",
      "metadata": {},
      "source": [
        "F\u00fcr die folgenden Aufgaben ben\u00f6tigen wir eine Klasse welche uns Zufallszahlen erzeugt. Dazu haben wir zuvor die Klasse `RandomArrayGenerator` aus dem Modul [common.python_intro_functions](../common/python_intro_functions.py) importiert. Schauen Sie sich bei der Gelegenheit [objektorientierte Konzepte](https://docs.python.org/3/tutorial/classes.html) in Python an. Schauen Sie sich dabei auch [Default-Argumente](https://docs.python.org/3/tutorial/controlflow.html#default-argument-values) an.\n",
        "\n",
        "Nun schauen wir uns den [dict](https://docs.python.org/3/tutorial/datastructures.html#dictionaries) Datentyp an. Dabei handelt es sich um Hashmaps, die von einem Schl\u00fcssel Objekt auf ein Wert Objekt abbilden.\n",
        "\n",
        "Gegeben sei die folgende zuf\u00e4llig erzeugte Liste. Beim Funktionsaufruf wurden [Keyword-Argumente](https://docs.python.org/3/tutorial/controlflow.html#keyword-arguments) verwendet."
      ]
    },
    {
      "cell_type": "code",
      "execution_count": 0,
      "metadata": {},
      "outputs": [],
      "source": [
        "rand_arr_gen = RandomArrayGenerator()\n",
        "rand_arr = rand_arr_gen.rand_gauss(arr_shape=(40,), mean=20, std_deviation=5)\n",
        "rand_list = list(rand_arr)"
      ]
    },
    {
      "cell_type": "markdown",
      "metadata": {},
      "source": [
        "Verwenden Sie nun eine list comprehension, um die Elemente der Liste rand_list ganzzahlig zu [runden](https://docs.python.org/3/library/functions.html#round) und \n",
        "zu einem [int zu konvertieren](https://docs.python.org/3/library/functions.html#int)."
      ]
    },
    {
      "cell_type": "code",
      "execution_count": 0,
      "metadata": {},
      "outputs": [],
      "source": []
    },
    {
      "cell_type": "markdown",
      "metadata": {},
      "source": [
        "Verwenden Sie dann ein dict Object, um zu z\u00e4hlen wie oft jeder int in der Liste auftritt.\n",
        "Als Schl\u00fcssel verwenden Sie dabei den int, als Wert die entsprechende Anzahl.\n",
        "Sie bestimmen also ein Histogramm, das die empirische Verteilung der Daten darstellt."
      ]
    },
    {
      "cell_type": "code",
      "execution_count": 0,
      "metadata": {},
      "outputs": [],
      "source": [
        "hist = {}\n",
        "print(type(hist))"
      ]
    },
    {
      "cell_type": "code",
      "execution_count": 0,
      "metadata": {},
      "outputs": [],
      "source": []
    },
    {
      "cell_type": "markdown",
      "metadata": {},
      "source": [
        "Geben Sie anschlie\u00dfend das dict Objekt nach Schl\u00fcssel sortiert in der Konsole aus. \n",
        "Verwenden Sie die [sorted()](https://docs.python.org/3/howto/sorting.html#sortinghowto) Methode."
      ]
    },
    {
      "cell_type": "code",
      "execution_count": 0,
      "metadata": {},
      "outputs": [],
      "source": []
    }
  ],
  "metadata": {
    "kernelspec": {
      "display_name": "Python 3",
      "language": "python",
      "name": "python3"
    },
    "language_info": {
      "codemirror_mode": {
        "name": "ipython",
        "version": 3
      },
      "file_extension": ".py",
      "mimetype": "text/x-python",
      "name": "python",
      "nbconvert_exporter": "python",
      "pygments_lexer": "ipython3",
      "version": "3.8.10"
    }
  },
  "nbformat": 4,
  "nbformat_minor": 4
}