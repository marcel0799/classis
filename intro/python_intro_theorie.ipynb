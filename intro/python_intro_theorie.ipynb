{
  "cells": [
    {
      "cell_type": "markdown",
      "metadata": {},
      "source": [
        "**\u00dcbung Mustererkennung** *WS 2022/23* -- *K. Brandenbusch,  Gernot A. Fink* -- *Technische Universit\u00e4t Dortmund, Lehrstuhl XII, Mustererkennung in eingebetteten Systemen*\n",
        "___\n",
        "\n",
        "# Theorie zur Einf\u00fchrung in Python und Numpy"
      ]
    },
    {
      "cell_type": "markdown",
      "metadata": {},
      "source": [
        "## Python"
      ]
    },
    {
      "cell_type": "markdown",
      "metadata": {},
      "source": [
        "<ul>\n",
        "    <li> Einfache und m\u00e4chtige Programmiersprache\n",
        "    <li>  Interpreter und viele Bibliotheken kostenlos verf\u00fcgbar\n",
        "    <li>  Kompakter und gut lesbarer Code\n",
        "    <li>  Quellcode meist deutlich k\u00fcrzer als in C, C++ oder Java\n",
        "    <li>  Ideal f\u00fcr Scripting und Rapid Application Development\n",
        "</ul>"
      ]
    },
    {
      "cell_type": "markdown",
      "metadata": {},
      "source": [
        "### Datentypen"
      ]
    },
    {
      "cell_type": "markdown",
      "metadata": {},
      "source": [
        "#### Variablen sind dynamisch getypt"
      ]
    },
    {
      "cell_type": "code",
      "execution_count": 0,
      "metadata": {},
      "outputs": [],
      "source": [
        "variable = 1 # Int\n",
        "\n",
        "variable = 1.0 # Float\n",
        "\n",
        "variable = '1.0' # string (immutable)"
      ]
    },
    {
      "cell_type": "markdown",
      "metadata": {},
      "source": [
        "#### Sequenzen"
      ]
    },
    {
      "cell_type": "code",
      "execution_count": 0,
      "metadata": {},
      "outputs": [],
      "source": [
        "seq = (1, 1.0, '1.0') # tuple (immutable)\n",
        "\n",
        "seq = [1, 2, 3, 'foo'] # list\n",
        "print(seq)"
      ]
    },
    {
      "cell_type": "markdown",
      "metadata": {},
      "source": [
        "#### Dictionaries"
      ]
    },
    {
      "cell_type": "code",
      "execution_count": 0,
      "metadata": {},
      "outputs": [],
      "source": [
        "dic_var = {'anna': 3098, 'marco': 4139}\n",
        "dic_var['guido'] = 4127\n",
        "\n",
        "print(dic_var['guido'])"
      ]
    },
    {
      "cell_type": "markdown",
      "metadata": {},
      "source": [
        "### Aufbau eines Python Programms"
      ]
    },
    {
      "cell_type": "code",
      "execution_count": 0,
      "metadata": {},
      "outputs": [],
      "source": [
        "# Import benoetigter Pakete\n",
        "import math\n",
        "import numpy as np\n",
        "from os.path import join\n",
        "\n",
        "def some_function(a, b=10): # Funktionsdefinition\n",
        "    result = b * math.cos(a * math.pi)\n",
        "    return result\n",
        "\n",
        "def main(): # Weitere Funktion\n",
        "    pass # Platzhalter fuer Codeblock\n",
        "\n",
        "# Einsprungpunkt\n",
        "if __name__ == '__main__':\n",
        "    main() # Funktionsaufruf"
      ]
    },
    {
      "cell_type": "markdown",
      "metadata": {},
      "source": [
        "### Funktionen"
      ]
    },
    {
      "cell_type": "markdown",
      "metadata": {},
      "source": [
        "#### Funktionsdefinition (mit einem Default-Argument):"
      ]
    },
    {
      "cell_type": "code",
      "execution_count": 0,
      "metadata": {},
      "outputs": [],
      "source": [
        "def some_function(a, b=10):\n",
        "    result = b * (a + 2)\n",
        "    return result"
      ]
    },
    {
      "cell_type": "markdown",
      "metadata": {},
      "source": [
        "#### Funktionsaufrufe mit Positional- und/oder Keyword-Argumenten:"
      ]
    },
    {
      "cell_type": "code",
      "execution_count": 0,
      "metadata": {},
      "outputs": [],
      "source": [
        "some_function(10) # a=10, b=10"
      ]
    },
    {
      "cell_type": "code",
      "execution_count": 0,
      "metadata": {},
      "outputs": [],
      "source": [
        "some_function(10, 4) # a=10, b=4"
      ]
    },
    {
      "cell_type": "code",
      "execution_count": 0,
      "metadata": {},
      "outputs": [],
      "source": [
        "some_function(b=3, a=15) # a=15, b=3"
      ]
    },
    {
      "cell_type": "markdown",
      "metadata": {},
      "source": [
        "### Klassen"
      ]
    },
    {
      "cell_type": "markdown",
      "metadata": {},
      "source": [
        "#### Klassendefinition mit Konstruktor und Funktion:"
      ]
    },
    {
      "cell_type": "code",
      "execution_count": 0,
      "metadata": {},
      "outputs": [],
      "source": [
        "class Example(object):\n",
        "    class_attr = 3.4 # Klassenattribut\n",
        "\n",
        "    def __init__(self, value, name='abc'):\n",
        "        \"\"\"Konstruktor\"\"\"\n",
        "        self.name = name # Instanzattribut\n",
        "        self.my_val = value\n",
        "\n",
        "    def do_something(self, a):\n",
        "        self.my_val += a\n",
        "        return self.name, self.my_val # Tuple"
      ]
    },
    {
      "cell_type": "markdown",
      "metadata": {},
      "source": [
        "#### Instanzierung und Methodenaufruf:"
      ]
    },
    {
      "cell_type": "code",
      "execution_count": 0,
      "metadata": {},
      "outputs": [],
      "source": [
        "my_object = Example(2)\n",
        "name, val = my_object.do_something(3)"
      ]
    },
    {
      "cell_type": "code",
      "execution_count": 0,
      "metadata": {},
      "outputs": [],
      "source": [
        "name"
      ]
    },
    {
      "cell_type": "code",
      "execution_count": 0,
      "metadata": {},
      "outputs": [],
      "source": [
        "val"
      ]
    },
    {
      "cell_type": "markdown",
      "metadata": {},
      "source": [
        "### Kontrollfluss"
      ]
    },
    {
      "cell_type": "markdown",
      "metadata": {},
      "source": [
        "#### if-Statement:"
      ]
    },
    {
      "cell_type": "code",
      "execution_count": 0,
      "metadata": {},
      "outputs": [],
      "source": [
        "variable = (1, 1.0, '1.0')\n",
        "if 42 in variable:\n",
        "    print('42 is in variable')\n",
        "elif 2 in variable:\n",
        "    print('2 is in variable')\n",
        "else:\n",
        "    print('42 and 2 are not in variable')"
      ]
    },
    {
      "cell_type": "markdown",
      "metadata": {},
      "source": [
        "#### while-Statement:"
      ]
    },
    {
      "cell_type": "code",
      "execution_count": 0,
      "metadata": {},
      "outputs": [],
      "source": [
        "i = 0\n",
        "while i < 10:\n",
        "    i += 1\n",
        "i"
      ]
    },
    {
      "cell_type": "markdown",
      "metadata": {},
      "source": [
        "#### for-Statement (iteriert \u00fcber Sequenz!):"
      ]
    },
    {
      "cell_type": "code",
      "execution_count": 0,
      "metadata": {},
      "outputs": [],
      "source": [
        "for i in range(10):\n",
        "    print(i, end=' ')"
      ]
    },
    {
      "cell_type": "code",
      "execution_count": 0,
      "metadata": {},
      "outputs": [],
      "source": [
        "words = ['cat', 'window', 'defenestrate']\n",
        "for c, w in enumerate(words):\n",
        "    print('(%d: %s)' % (c, w), end=' ')"
      ]
    },
    {
      "cell_type": "markdown",
      "metadata": {},
      "source": [
        "#### List Comprehension:"
      ]
    },
    {
      "cell_type": "code",
      "execution_count": 0,
      "metadata": {},
      "outputs": [],
      "source": [
        "[ x**2 for x in range(10) ]"
      ]
    },
    {
      "cell_type": "markdown",
      "metadata": {},
      "source": [
        "### String Formatierung"
      ]
    },
    {
      "cell_type": "markdown",
      "metadata": {},
      "source": [
        "#### Formatierung mit \\%-Operator"
      ]
    },
    {
      "cell_type": "code",
      "execution_count": 0,
      "metadata": {},
      "outputs": [],
      "source": [
        "'Number: %d' % 50"
      ]
    },
    {
      "cell_type": "code",
      "execution_count": 0,
      "metadata": {},
      "outputs": [],
      "source": [
        "name, val = 'marc', 2.45\n",
        "'%s: %.2f' % (name, val)"
      ]
    },
    {
      "cell_type": "markdown",
      "metadata": {},
      "source": [
        "#### Formatierung mit format()"
      ]
    },
    {
      "cell_type": "code",
      "execution_count": 0,
      "metadata": {},
      "outputs": [],
      "source": [
        "'Number: {:d}'.format(50)"
      ]
    },
    {
      "cell_type": "code",
      "execution_count": 0,
      "metadata": {},
      "outputs": [],
      "source": [
        "'{:s}: {:.2f}'.format(name, val)"
      ]
    },
    {
      "cell_type": "markdown",
      "metadata": {},
      "source": [
        "Formatierung mit f-Strings"
      ]
    },
    {
      "cell_type": "code",
      "execution_count": 0,
      "metadata": {},
      "outputs": [],
      "source": [
        "f'Number: {50}'"
      ]
    },
    {
      "cell_type": "code",
      "execution_count": 0,
      "metadata": {},
      "outputs": [],
      "source": [
        "f'Name: {name}, Values: {val}'"
      ]
    },
    {
      "cell_type": "markdown",
      "metadata": {},
      "source": [
        "Vorsicht bei der Verwendung von Dictionaries! Benutzen Sie unterschiedlche Anf\u00fchrungsstriche \"\"  und ''"
      ]
    },
    {
      "cell_type": "code",
      "execution_count": 0,
      "metadata": {},
      "outputs": [],
      "source": [
        "dic_var = {'bob': 1234}\n",
        "f'Bob in dic_var ist {dic_var[\"bob\"]}'"
      ]
    },
    {
      "cell_type": "markdown",
      "metadata": {},
      "source": [
        "## NumPy"
      ]
    },
    {
      "cell_type": "markdown",
      "metadata": {},
      "source": [
        "<ul>\n",
        "    <li> Numeric Python\n",
        "    <li> Programmbibliothek f\u00fcr wissenschaftliches Rechnen und numerische Berechnungen\n",
        "    <li> Komplexe Berechnungen und rechnen mit gro\u00dfen Datenmengen in Python ineffizient\n",
        "    <li> Effizientes rechnen mit Matrizen, mehrdimensionalen Arrays und Vektoren\n",
        "<ul>"
      ]
    },
    {
      "cell_type": "markdown",
      "metadata": {},
      "source": [
        "### Einf\u00fchrung"
      ]
    },
    {
      "cell_type": "code",
      "execution_count": 0,
      "metadata": {},
      "outputs": [],
      "source": [
        "import numpy as np"
      ]
    },
    {
      "cell_type": "code",
      "execution_count": 0,
      "metadata": {},
      "outputs": [],
      "source": [
        "a = np.array([0,1,2,3,4,5,6,7,8])\n",
        "a"
      ]
    },
    {
      "cell_type": "code",
      "execution_count": 0,
      "metadata": {},
      "outputs": [],
      "source": [
        "b = a.reshape((3,3))\n",
        "b"
      ]
    },
    {
      "cell_type": "code",
      "execution_count": 0,
      "metadata": {},
      "outputs": [],
      "source": [
        "c = b * 10\n",
        "c"
      ]
    },
    {
      "cell_type": "code",
      "execution_count": 0,
      "metadata": {},
      "outputs": [],
      "source": [
        "b + c"
      ]
    },
    {
      "cell_type": "code",
      "execution_count": 0,
      "metadata": {},
      "outputs": [],
      "source": [
        "b * c"
      ]
    },
    {
      "cell_type": "code",
      "execution_count": 0,
      "metadata": {},
      "outputs": [],
      "source": [
        "b.mean()"
      ]
    },
    {
      "cell_type": "code",
      "execution_count": 0,
      "metadata": {},
      "outputs": [],
      "source": [
        "b.sum()"
      ]
    },
    {
      "cell_type": "markdown",
      "metadata": {},
      "source": [
        "### Array Gr\u00f6\u00dfe"
      ]
    },
    {
      "cell_type": "code",
      "execution_count": 0,
      "metadata": {},
      "outputs": [],
      "source": [
        "print(a)\n",
        "a.shape"
      ]
    },
    {
      "cell_type": "code",
      "execution_count": 0,
      "metadata": {},
      "outputs": [],
      "source": [
        "print(b)\n",
        "b.shape"
      ]
    },
    {
      "cell_type": "code",
      "execution_count": 0,
      "metadata": {},
      "outputs": [],
      "source": [
        "d = np.array([[[0, 1, 2, 3],\n",
        "               [4, 5, 6, 7] ],\n",
        "              [[0, 1, 2, 3],\n",
        "               [4, 5, 6, 7] ],\n",
        "              [[0, 1, 2, 3],\n",
        "               [4, 5, 6, 7] ] ])\n",
        "d.shape"
      ]
    },
    {
      "cell_type": "markdown",
      "metadata": {},
      "source": [
        "### Initialisierung"
      ]
    },
    {
      "cell_type": "markdown",
      "metadata": {},
      "source": [
        "#### Explizite Liste:"
      ]
    },
    {
      "cell_type": "code",
      "execution_count": 0,
      "metadata": {},
      "outputs": [],
      "source": [
        "a = np.array([0,1,2,3,4])\n",
        "a"
      ]
    },
    {
      "cell_type": "markdown",
      "metadata": {},
      "source": [
        "#### Range:"
      ]
    },
    {
      "cell_type": "code",
      "execution_count": 0,
      "metadata": {},
      "outputs": [],
      "source": [
        "np.arange(10)"
      ]
    },
    {
      "cell_type": "markdown",
      "metadata": {},
      "source": [
        "#### Zeros:"
      ]
    },
    {
      "cell_type": "code",
      "execution_count": 0,
      "metadata": {},
      "outputs": [],
      "source": [
        "np.zeros((2,3))"
      ]
    },
    {
      "cell_type": "markdown",
      "metadata": {},
      "source": [
        "#### Ones:"
      ]
    },
    {
      "cell_type": "code",
      "execution_count": 0,
      "metadata": {},
      "outputs": [],
      "source": [
        "np.ones((2,3))"
      ]
    },
    {
      "cell_type": "markdown",
      "metadata": {},
      "source": [
        "#### Konstante Diagonale:"
      ]
    },
    {
      "cell_type": "code",
      "execution_count": 0,
      "metadata": {},
      "outputs": [],
      "source": [
        "np.eye(3)"
      ]
    },
    {
      "cell_type": "markdown",
      "metadata": {},
      "source": [
        "#### Diagonale mit Werten:"
      ]
    },
    {
      "cell_type": "code",
      "execution_count": 0,
      "metadata": {},
      "outputs": [],
      "source": [
        "np.diag([1,2,3])"
      ]
    },
    {
      "cell_type": "markdown",
      "metadata": {},
      "source": [
        "### Indizieren und Slicing"
      ]
    },
    {
      "cell_type": "code",
      "execution_count": 0,
      "metadata": {},
      "outputs": [],
      "source": [
        "a = np.array([ [ 0,  1,  2,  3,  4],\n",
        "               [ 5,  6,  7,  8,  9],\n",
        "               [10, 11, 12, 13, 14]   ])"
      ]
    },
    {
      "cell_type": "markdown",
      "metadata": {},
      "source": [
        "(1) Die zweite und dritte Spalte von den ersten beiden Zeilen:"
      ]
    },
    {
      "cell_type": "code",
      "execution_count": 0,
      "metadata": {},
      "outputs": [],
      "source": [
        "a[:2,1:3]"
      ]
    },
    {
      "cell_type": "markdown",
      "metadata": {},
      "source": [
        "(2) Die ersten beiden Zeilen:"
      ]
    },
    {
      "cell_type": "code",
      "execution_count": 0,
      "metadata": {},
      "outputs": [],
      "source": [
        "a[0:2,:]"
      ]
    },
    {
      "cell_type": "markdown",
      "metadata": {},
      "source": [
        "(3) Jede 2te Spalte:"
      ]
    },
    {
      "cell_type": "code",
      "execution_count": 0,
      "metadata": {},
      "outputs": [],
      "source": [
        "a[:,::2]"
      ]
    },
    {
      "cell_type": "markdown",
      "metadata": {},
      "source": [
        "(4) Die erste und dritte Zeile ohne das erste Element:"
      ]
    },
    {
      "cell_type": "code",
      "execution_count": 0,
      "metadata": {},
      "outputs": [],
      "source": [
        "a[[0,2],1:]"
      ]
    },
    {
      "cell_type": "markdown",
      "metadata": {},
      "source": [
        "(5) Boolsche Maske f\u00fcr gerade Werte:"
      ]
    },
    {
      "cell_type": "code",
      "execution_count": 0,
      "metadata": {},
      "outputs": [],
      "source": [
        "a % 2 == 0"
      ]
    },
    {
      "cell_type": "markdown",
      "metadata": {},
      "source": [
        "(6) Alle geraden Werte:"
      ]
    },
    {
      "cell_type": "code",
      "execution_count": 0,
      "metadata": {},
      "outputs": [],
      "source": [
        "a[a % 2 == 0]"
      ]
    },
    {
      "cell_type": "markdown",
      "metadata": {},
      "source": [
        "### Axis"
      ]
    },
    {
      "cell_type": "code",
      "execution_count": 0,
      "metadata": {},
      "outputs": [],
      "source": [
        "a"
      ]
    },
    {
      "cell_type": "markdown",
      "metadata": {},
      "source": [
        "#### axis = None"
      ]
    },
    {
      "cell_type": "markdown",
      "metadata": {},
      "source": [
        "<div align=\"center\">\n",
        "    <figure >\n",
        "        <img src=\"images/axis0.png\" style=\"width:30%;padding:20px;align:center;display: block;margin-left: auto;margin-right: auto;\">\n",
        "    </figure>\n",
        "</div>"
      ]
    },
    {
      "cell_type": "code",
      "execution_count": 0,
      "metadata": {},
      "outputs": [],
      "source": [
        "a.sum()"
      ]
    },
    {
      "cell_type": "markdown",
      "metadata": {},
      "source": [
        "#### axis = 0"
      ]
    },
    {
      "cell_type": "markdown",
      "metadata": {},
      "source": [
        "<div align=\"center\">\n",
        "    <figure >\n",
        "        <img src=\"images/axis1.png\" style=\"width:30%;padding:20px;align:center;display: block;margin-left: auto;margin-right: auto;\">\n",
        "    </figure>\n",
        "</div>"
      ]
    },
    {
      "cell_type": "code",
      "execution_count": 0,
      "metadata": {},
      "outputs": [],
      "source": [
        "a.sum(axis=0)"
      ]
    },
    {
      "cell_type": "markdown",
      "metadata": {},
      "source": [
        "#### axis = 1"
      ]
    },
    {
      "cell_type": "markdown",
      "metadata": {},
      "source": [
        "<div align=\"center\">\n",
        "    <figure >\n",
        "        <img src=\"images/axis2.png\" style=\"width:30%;padding:20px;align:center;display: block;margin-left: auto;margin-right: auto;\">\n",
        "    </figure>\n",
        "</div>"
      ]
    },
    {
      "cell_type": "code",
      "execution_count": 0,
      "metadata": {},
      "outputs": [],
      "source": [
        "a.sum(axis=1)"
      ]
    },
    {
      "cell_type": "markdown",
      "metadata": {},
      "source": [
        "## Matplotlib"
      ]
    },
    {
      "cell_type": "code",
      "execution_count": 0,
      "metadata": {},
      "outputs": [],
      "source": [
        "import matplotlib.pyplot as plt\n",
        "plt.plot([1, 2, 3, 4], \n",
        "         [1, 4, 9, 16])\n",
        "plt.show()"
      ]
    }
  ],
  "metadata": {
    "kernelspec": {
      "display_name": "Python 3",
      "language": "python",
      "name": "python3"
    },
    "language_info": {
      "codemirror_mode": {
        "name": "ipython",
        "version": 3
      },
      "file_extension": ".py",
      "mimetype": "text/x-python",
      "name": "python",
      "nbconvert_exporter": "python",
      "pygments_lexer": "ipython3",
      "version": "3.8.10"
    }
  },
  "nbformat": 4,
  "nbformat_minor": 4
}