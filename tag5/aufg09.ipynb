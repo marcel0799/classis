{
  "cells": [
    {
      "cell_type": "markdown",
      "id": "aaa63354-7394-4a84-918f-7f55a0a817a9",
      "metadata": {},
      "source": [
        "**\u00dcbung Mustererkennung** *WS 2022/23* -- *K. Brandenbusch,  Gernot A. Fink* -- *Technische Universit\u00e4t Dortmund, Lehrstuhl XII, Mustererkennung in eingebetteten Systemen*\n",
        "___\n",
        "# Aufgabe 9: Perzeptron"
      ]
    },
    {
      "cell_type": "code",
      "execution_count": 0,
      "id": "7dcdb8af-6939-44ef-a985-24c6f674d3c5",
      "metadata": {},
      "outputs": [],
      "source": [
        "%load_ext autoreload\n",
        "%autoreload 2\n",
        "%matplotlib widget\n",
        "\n",
        "# Uebergeordneten Ordner zum Pfad hinzufuegen, damit das common Package importiert werden kann\n",
        "import sys\n",
        "if '..' not in sys.path:\n",
        "    sys.path.append('..')"
      ]
    },
    {
      "cell_type": "markdown",
      "id": "c12749f6-3beb-44ab-affa-0dc4d1458a82",
      "metadata": {},
      "source": [
        "---\n",
        "## Theorie\n",
        "\n",
        "In dieser Aufgabe geht es um die Klassifikation mit neuronalen Netzen.<br>\n",
        "Der Grundbaustein eines neuronalen Netzes ist das Neuron.\n",
        "Ein Neuron besteht aus:\n",
        "- Gewichten $\\large \\omega_1, \\dots, \\omega_n$\n",
        "- einem Bias $\\large \\omega_0$\n",
        "- einer Aktivierungsfunktion $\\large \\Theta$\n",
        "\n",
        "![Perzeptron](./perceptron.jpg)\n",
        "\n",
        "Wie auf der Abbildung illustriert ist, berechnet ein Neuron f\u00fcr eine Eingabe $ \\large \\underline x = (x_1, \\dots, x_n)^T$ zun\u00e4chst die Erregung \n",
        "\n",
        "$$\n",
        "    \\large y = \\sum_{i=0}^n \\omega_i x_i.\n",
        "$$\n",
        "\n",
        "Anschlie\u00dfend wird die Ausgabe des Neurons durch die Erregung $y$ und die Akivierunsfunktinon $\\Theta$ bestimmt.\n",
        "\n",
        "$$\n",
        "    \\large u = \\Theta(y).\n",
        "$$\n",
        "\n",
        "G\u00e4ngige Aktivierungsfunktionen sind:\n",
        "* die Schwellwertfunktion $\\large \\Theta_s(y) = \\begin{cases} 1 \\text{ falls } y \\geq 0 \\\\ 0 \\text{ sonst } \\end{cases} $\n",
        "* der Tangens hyperbolicus $\\large \\Theta_t(y) = \\tanh(y) = \\frac{e^y - e^{-y}}{e^y + e^{-y}}$\n",
        "* die Sigmoidfunktion $\\large \\Theta(y) = \\frac{1}{1+e^{\\alpha y}}$\n",
        "* die Recitified Linear Unit (ReLU) $\\large \\Theta_r(y) = \\max(0, y)$\n",
        "\n",
        "\n",
        "\n",
        "\n",
        "In dieser Aufgabe sollen Sie ein einschichtiges (keine Hidden Layer) neuronales Netz zur Klassifikation auf dem `data2d` Datensatz ($n=2$) verwenden."
      ]
    },
    {
      "cell_type": "code",
      "execution_count": 0,
      "id": "64c32ed6-b2ba-46f1-885b-69a7fa87955b",
      "metadata": {},
      "outputs": [],
      "source": [
        "from common.data_provider import DataProvider\n",
        "import matplotlib.pyplot as plt\n",
        "import matplotlib.cm as cm\n",
        "import numpy as np\n",
        "\n",
        "train_data_provider = DataProvider(DataProvider.DATA2DROOT_TRAIN)\n",
        "test_data_provider = DataProvider(DataProvider.DATA2DROOT_TEST)\n",
        "\n",
        "colors = np.array(['#F00', '#0F0', '#00F'])\n",
        "train_data, train_labels = train_data_provider.get_dataset_and_labels()\n",
        "fig = plt.figure()\n",
        "ax = fig.add_subplot(111)\n",
        "ax.scatter(train_data[:, 0], train_data[:, 1], c=colors[train_labels.astype(int)], edgecolor='k', zorder=1)\n",
        "\n",
        "plt.show()"
      ]
    },
    {
      "cell_type": "markdown",
      "id": "ed29f416-43e9-4ae9-b635-f0f297f9d733",
      "metadata": {},
      "source": [
        "\u00dcberlegen Sie zun\u00e4chst welche Klassifikationsprobleme sich mit dieser Netzwerk-Topologie l\u00f6sen lassen und w\u00e4hlen Sie den Trainings- und Testdatensatz entsprechend.\n",
        "Extrahieren Sie die Klassen, die sich entsprechend der Netzwerk-Topologie f\u00fcr die Aufgabe trennen lassen und visualisieren Sie diese erneut."
      ]
    },
    {
      "cell_type": "code",
      "execution_count": 0,
      "id": "d2f03ace-3846-4813-8dfd-1be0ae4403e3",
      "metadata": {},
      "outputs": [],
      "source": []
    },
    {
      "cell_type": "markdown",
      "id": "f24ca401-9fd7-476a-a091-f010ae4d4d1b",
      "metadata": {},
      "source": [
        "---\n",
        "## Implementierung\n",
        "\n",
        "Wie die anderen Klassifikatoren, die Sie im Laufe der \u00dcbung kennengelernt haben, besitzt auch die Klasse `NeuralNetwork` im Modul [`common.classification`](../common/classification.py) einen Konstruktor (`__init__`) und die Methoden `estimate` und `classify`. Der Konstruktor initialisiert die notwendige Komponenten des Klassifikators. Die Methode `estimate` sch\u00e4tzt die Parameter des Klassifikators (hier die Gewichte) und die Methode `classify` f\u00fchrt die Inferenz durch (hier ein _forward pass_).\n",
        "\n",
        "In dieser Aufgabe ist es Ihnen selbst \u00fcberlassen ob Sie, wie zuvor, die Bestandteile des Klassifikators iterativ \u00fcber Zellen im Notebook implementieren oder direkt die entsprechenden Methoden mit Inhalt f\u00fcllen."
      ]
    },
    {
      "cell_type": "markdown",
      "id": "0768eef8",
      "metadata": {},
      "source": [
        "### Konstruktor\n",
        "Implementieren sie zun\u00e4chst den Konstruktor der Klasse `NeuralNetwork` im Modul [`common.classification`](../common/classification.py).\n",
        "\n",
        "\n",
        "Nutzen Sie f\u00fcr die Umsetzung der Aktivierungsfunktionen und ihrer Ableitungen `lambda` Funktionen.\n",
        "Eine kurze Erkl\u00e4rung zu `lambda`-Funktionen finden Sie [hier](https://docs.python.org/3/tutorial/controlflow.html#lambda-expressions).\n",
        "\n",
        "\n",
        "Initialisieren Sie eine Liste um den Root Mean Squared Error (RMSE) und die berechneten Gewichte f\u00fcr jede Iteration abzuspeichern.\n",
        "Diese k\u00f6nnen genutzt werden um die Zwischenergebnisse des Trainings zu visualisieren.\n",
        "In der Praxis ist das so detailierte Nachverfolgen des Trainings \u00fcber jede Iteration nicht praktikabel.\n",
        "Da unser Spielbeispiel simpel ist ben\u00f6tigen wir auch nicht viele Gewichte und k\u00f6nnen diese problemlos mitspeichern.\n",
        "\n",
        "\n"
      ]
    },
    {
      "cell_type": "code",
      "execution_count": 0,
      "id": "32df23e4",
      "metadata": {},
      "outputs": [],
      "source": [
        "from common.classification import NeuralNetwork\n",
        "\n",
        "nn = NeuralNetwork(learning_rate=0.05, iterations=1000, activation='Linear')"
      ]
    },
    {
      "cell_type": "markdown",
      "id": "ac352780",
      "metadata": {},
      "source": [
        "### Training\n",
        "\n",
        "Implementieren Sie nun die Methode `NeuralNetwork.estimate`.\n",
        "\n",
        "In jeder Iteration berechnet des Netz dabei zun\u00e4chst die Ausgabe f\u00fcr die aktuellen Gewichte.\n",
        "Mithilfe der Labels wird anschlie\u00dfend der Fehler zwischen der Ausgabe und den Labels berechnet.  \n",
        "Als Fehlerma\u00df verwenden wir hier den Mittleren quadratischen Fehler (Root Mean Squared Error)\n",
        "\n",
        "Letzlich werden die Gewichte durch die Ableitung des Fehlers korrigiert ehe die n\u00e4chste Iteration von vorne beginnt.\n",
        "\n",
        "_Hinweis_: Achten Sie darauf, dass die \u00dcbergabe des Bias (zus\u00e4tzlicher Input f\u00fcr $x_0$) impliziert wird. Er existiert also nicht in den Daten und soll in der Methode vor die eigentliche Eingabe \"gehangen\" werden."
      ]
    },
    {
      "cell_type": "code",
      "execution_count": 0,
      "id": "0167ce29",
      "metadata": {},
      "outputs": [],
      "source": [
        "nn.estimate(train_data, train_labels)"
      ]
    },
    {
      "cell_type": "markdown",
      "id": "80592ac9",
      "metadata": {},
      "source": [
        "### Inferenz\n",
        "\n",
        "Implementieren Sie schlie\u00dflich die Methode `NeuralNetwork.classify`. Diese f\u00fchrt einen _forward pass_ aus, wobei wie oben beschrieben die gelernten Gewichte mit den Eingaben multipliziert und die Aktivierungsfunktion angewandt wird."
      ]
    },
    {
      "cell_type": "code",
      "execution_count": 0,
      "id": "07e39ec6",
      "metadata": {},
      "outputs": [],
      "source": [
        "nn_result_labels = nn.classify(test_data, iteration=100)"
      ]
    },
    {
      "cell_type": "markdown",
      "id": "e1ed29bf",
      "metadata": {},
      "source": [
        "---\n",
        "## Evaluation\n",
        "Evaluieren Sie nun Ihr trainiertes Netz.\n",
        "\n",
        "Nutzen Sie dazu den bekannten `ClassificationEvaluator` im Modul [`common.classification`](../common/classification.py)."
      ]
    },
    {
      "cell_type": "code",
      "execution_count": 0,
      "id": "2ed9a219",
      "metadata": {},
      "outputs": [],
      "source": [
        "from common.classification import ClassificationEvaluator\n"
      ]
    },
    {
      "cell_type": "markdown",
      "id": "44a80bec",
      "metadata": {},
      "source": [
        "Plotten Sie au\u00dferdem die Entwicklung des Fehlers.\n"
      ]
    },
    {
      "cell_type": "code",
      "execution_count": 0,
      "id": "51a8b5f1",
      "metadata": {},
      "outputs": [],
      "source": []
    },
    {
      "cell_type": "markdown",
      "id": "b245c73b",
      "metadata": {},
      "source": [
        "\n",
        "In dem Modul [`common.visualisazion`](../common/visualization.py) finden Sie die Methode `plot_hyperplane`. Nutzen Sie diese um ausgew\u00e4hlte Zwischenergebnisse nebeneinander in subplots (vgl. Examples in [`fig.add_subplots`](https://matplotlib.org/stable/api/figure_api.html#matplotlib.figure.Figure.add_subplot)) darzustellen."
      ]
    },
    {
      "cell_type": "code",
      "execution_count": 0,
      "id": "8c6392a4",
      "metadata": {},
      "outputs": [],
      "source": []
    },
    {
      "cell_type": "markdown",
      "id": "95768612",
      "metadata": {},
      "source": [
        "---\n",
        "Diskutieren Sie anschlie0end folgende Fragen:\n",
        "\n",
        "- Welche Eigenschaften hat ein neuronales Netz mit dem sich beliebige 2-Klassenprobleme auf dem `data2d` Datensatz l\u00f6sen lassen? \n",
        "- Wie wuerde man ein solches Netz fuer die L\u00f6sung des 3-Klassenproblems erweitern?\n",
        "\n",
        "\n",
        "**Optional:**\n",
        "- Implementieren Sie ein neuronales Netz, mit dem sich beliebige 2-Klassenprobleme auf dem `data2d` Datensatz l\u00f6sen lassen.\n",
        "- Visualisieren Sie den Trainingprozess.\n",
        "- Erweitern Sie Ihr Netz zur L\u00f6sung des 3-Klassenproblems."
      ]
    }
  ],
  "metadata": {
    "kernelspec": {
      "display_name": "Python 3",
      "language": "python",
      "name": "python3"
    },
    "language_info": {
      "codemirror_mode": {
        "name": "ipython",
        "version": 3
      },
      "file_extension": ".py",
      "mimetype": "text/x-python",
      "name": "python",
      "nbconvert_exporter": "python",
      "pygments_lexer": "ipython3",
      "version": "3.8.10"
    }
  },
  "nbformat": 4,
  "nbformat_minor": 5
}