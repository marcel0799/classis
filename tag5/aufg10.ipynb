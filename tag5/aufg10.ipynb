{
  "cells": [
    {
      "cell_type": "markdown",
      "metadata": {},
      "source": [
        "**\u00dcbung Mustererkennung** *WS 2022/23* -- *K. Brandenbusch,  Gernot A. Fink* -- *Technische Universit\u00e4t Dortmund, Lehrstuhl XII, Mustererkennung in eingebetteten Systemen*\n",
        "___\n",
        "# Aufgabe 10: Neuronale Netze mit PyTorch\n",
        "\n",
        "In den letzten Jahren haben sich [PyTorch](https://pytorch.org/) und [Tensorflow](https://www.tensorflow.org/) als Frameworks f\u00fcr den Einsatz von neuronalen Netzen durchgesetzt.\n",
        "Beide Frameworks implementieren eine Reihe von Datens\u00e4tzen, Netzwerkschichten und Optimierern.\n",
        "Desweiteren \u00fcbernimmt die [autograd](https://pytorch.org/tutorials/beginner/blitz/autograd_tutorial.html)-Funktion von PyTorch die automatische Definition und Berechnung von Gradienten.\n",
        "\n",
        "In dieser Aufgabe entwickeln Sie ein simples neuronales Netz in PyTorch.\n",
        "\n",
        "Zun\u00e4chst muss das Notebook konfiguriert werden."
      ]
    },
    {
      "cell_type": "code",
      "execution_count": 0,
      "metadata": {},
      "outputs": [],
      "source": [
        "%load_ext autoreload\n",
        "%autoreload 2\n",
        "%matplotlib widget\n",
        "\n",
        "# Uebergeordneten Ordner zum Pfad hinzufuegen, damit das common Package importiert werden kann\n",
        "import sys\n",
        "if '..' not in sys.path:\n",
        "    sys.path.append('..')"
      ]
    },
    {
      "cell_type": "markdown",
      "metadata": {},
      "source": [
        "___\n",
        "### Datesets und Dataloader\n",
        "\n",
        "PyTorch bietet einen einheitlichen Standard f\u00fcr das Laden und Iterieren von Datens\u00e4tzen.\n",
        "Dazu stellt PyTorch den praktischen [`DataLoader`](https://pytorch.org/docs/stable/data.html) zur Verf\u00fcgung.\n",
        "Ein `DataLoader` iteriert \u00fcber einen Datensatz und erstellt automatisch Batches mehrerer Samples.\n",
        "\n",
        "\n",
        "Die meisten g\u00e4ngigen [Benchmark Datens\u00e4tze](https://pytorch.org/vision/stable/datasets.html) (wie z.B. MNIST) sind direkt in PyTorch implementiert und k\u00f6nnen einfach importiert werden.\n",
        "Die Datensatz-Klasse k\u00fcmmert sich dabei auch um das Herunterladen der Daten.\n",
        "\n",
        "In dieser Aufgabe befassen Sie sich mit einer vereinfachten Form des MNIST Datensatzes.\n",
        "Wir reduzieren dabei den Datensatz auf 2 Klassen.\n"
      ]
    },
    {
      "cell_type": "code",
      "execution_count": 0,
      "metadata": {},
      "outputs": [],
      "source": [
        "import torch\n",
        "import torchvision.datasets as datasets\n",
        "from torchvision import transforms\n",
        "\n",
        "import numpy as np\n",
        "import matplotlib.pyplot as plt\n",
        "\n",
        "dataset = datasets.MNIST(root='../data/torchvision',\n",
        "                        transform=transforms.ToTensor(),\n",
        "                        train=True,\n",
        "                        download=True)\n",
        "\n",
        "# Extrahieren von zwei Klassen\n",
        "idx = (dataset.targets == 0) | (dataset.targets == 1)\n",
        "dataset.targets = dataset.targets[idx]\n",
        "dataset.data = dataset.data[idx]\n",
        "\n",
        "# DataLoader erstellen\n",
        "batch_size = 10\n",
        "train_loader = torch.utils.data.DataLoader(dataset, batch_size=batch_size, shuffle=True)\n",
        "test_loader = torch.utils.data.DataLoader(dataset, batch_size=batch_size, shuffle=True)\n",
        "\n",
        "# Visualisierung einer Minibatch des ausgew\u00e4hlten Teils des MNIST Datensatzes, der klassifiziert werden soll\n",
        "batch, target = next(iter(train_loader))\n",
        "_, ax_arr = plt.subplots(2,5)\n",
        "ax_arr = ax_arr.flatten()\n",
        "for idx, img in enumerate(batch):\n",
        "    ax_arr[idx].imshow(np.squeeze(img), cmap='Greys_r')\n",
        "    ax_arr[idx].axis('off')\n",
        "plt.show()"
      ]
    },
    {
      "cell_type": "markdown",
      "metadata": {},
      "source": [
        "---\n",
        "## Netzarchitektur\n",
        "In den n\u00e4chsten Schritten implementieren Sie das folgende Netz:\n",
        "\n",
        "![CNN](./cnn.jpg)\n",
        "\n",
        "### Konstruktor\n",
        "\n",
        "Implementieren Sie zun\u00e4chst den Konstruktor der Klasse `ConvolutionalNeuralNetwork` im Modul [`common.cnn`](../common/cnn.py).\n",
        "Im Konstruktor der Klasse sollen zun\u00e4chst nur die Bauteile des Netzes initialisiert werden.\n",
        "\n",
        "Initialisieren Sie zwei Faltungsschichten\n",
        "* conv1 := conv2d : in_channel=1, out_channel=10, kernel_size=5\n",
        "* conv2 := conv2d : in_channel=10, out_channel=20, kernel_size=5\n",
        "\n",
        "und zwei vollvernetzte Schichten\n",
        "* fc1 := linear: in_features=$ 4 \\times 4 \\times 20$, out_features=10\n",
        "* fc2 := linear: in_features=10, out_features=2\n",
        "\n",
        "F\u00fcr weitere Informationen lesen Sie die PyTorch Dokumentation:\n",
        "* [conv2d](https://pytorch.org/docs/stable/nn.html#conv2d)\n",
        "* [linear](https://pytorch.org/docs/stable/nn.html#linear)\n",
        "\n",
        "Beantworten Sie zus\u00e4tzlich die folgenden Fragen:\n",
        "\n",
        "* Warum sollten MLPs nicht zur Klassifikation von Bildern verwendet werden?\n",
        "* Warum ist es sinnvoll als Aktivierungsfunktion der versteckten Schichten die\n",
        "Rectified Linear Unit zu verwenden?"
      ]
    },
    {
      "cell_type": "code",
      "execution_count": 0,
      "metadata": {},
      "outputs": [],
      "source": [
        "from common.cnn import ConvolutionalNeuralNetwork\n",
        "# Initialisierung des Netzes\n",
        "cnn = ConvolutionalNeuralNetwork()"
      ]
    },
    {
      "cell_type": "markdown",
      "metadata": {},
      "source": [
        "### Forward\n",
        "\n",
        "Implementieren Sie nun die Methode `ConvolutionalNeuralNetwork.forward`.\n",
        "Diese Methode definiert *wie* die Daten durch das Netz gef\u00fchrt werden.\n",
        "\n",
        "Die Aktivierungsfunktion `ReLU` und das Pooling k\u00f6nnen Sie aus dem Modul `torch.nn.functional` verwenden.\n",
        "\n",
        "F\u00fcr weitere Informationen lesen Sie die PyTorch Dokumentation:\n",
        "* [max-pool2d](https://pytorch.org/docs/stable/nn.functional.html#max-pool2d)\n",
        "* [relu](https://pytorch.org/docs/stable/nn.functional.html#relu)\n",
        "* [log_softmax](https://pytorch.org/docs/stable/generated/torch.nn.functional.log_softmax.html)\n",
        "* [view](https://pytorch.org/docs/stable/generated/torch.Tensor.view.html)"
      ]
    },
    {
      "cell_type": "markdown",
      "metadata": {},
      "source": [
        "---\n",
        "### Evaluation\n",
        "Implementieren Sie au\u00dferdem die Methode `ConvolutionalNeuralNetwork.test` um das Netz sowohl nach dem Training zu Evaluieren als auch um das Training des Netzes zu \u00fcberwachen.\n",
        "\n",
        "Die Methode soll die Ausgabe des Netzes f\u00fcr die \u00fcbergebenen Daten berechnen und anschlie\u00dfend sowohl den Optimierungsfehler als auch die Genauigkeit der Vorhersage zur\u00fcckgeben.\n",
        "\n",
        "Nutzen Sie die negative log-likelihood [nll_loss](https://pytorch.org/docs/stable/generated/torch.nn.functional.nll_loss.html) als Optimierungsfehler.\n",
        "\n",
        "Nutzen sie [`torch.no_grad()`](https://pytorch.org/docs/stable/generated/torch.no_grad.html) um die automatische Berechnung der Gradienten zu stoppen.\n",
        "\n"
      ]
    },
    {
      "cell_type": "markdown",
      "metadata": {},
      "source": [
        "Nachdem Sie alle notwendigen Bestandteile der Klasse implementiert haben, trainiert und evaluiert der folgende Code ihr Netz."
      ]
    },
    {
      "cell_type": "code",
      "execution_count": 0,
      "metadata": {},
      "outputs": [],
      "source": [
        "import torch\n",
        "import torch.nn.functional as F\n",
        "import torch.optim as optim\n",
        "\n",
        "learning_rate = 0.0001\n",
        "log_interval = 10\n",
        "test_interval = 100\n",
        "\n",
        "optimizer = optim.Adam(cnn.parameters(), lr=learning_rate)\n",
        "\n",
        "# Training des Netzes fure eine Epoche\n",
        "cnn.train()\n",
        "for batch_idx, (data, target) in enumerate(train_loader):\n",
        "    optimizer.zero_grad()\n",
        "    output = cnn(data)\n",
        "    loss = F.nll_loss(output, target)\n",
        "    loss.backward()\n",
        "    optimizer.step()\n",
        "\n",
        "    if batch_idx % log_interval == 0:\n",
        "        print('Iteration: [{}/{} ({:.0f}%)]\\tLoss: {:.6f}'.format(\n",
        "                batch_idx * len(data), len(train_loader.dataset),\n",
        "                100. * batch_idx / len(train_loader), loss.item()))\n",
        "    if batch_idx % test_interval == 0:\n",
        "        print('Evaluatiere nach {} Iterationen...'.format(batch_idx *len(data)))\n",
        "        test_loss, accuracy, correct = cnn.test(test_loader)\n",
        "        print('Test set: Avg. loss: {:.4f}, Accuracy: {}/{} ({:.0f}%)'.format(\n",
        "                test_loss, correct, len(test_loader.dataset),\n",
        "                100 * accuracy))\n",
        "\n",
        "print('Finale Evalauierung:')\n",
        "test_loss, accuracy, correct = cnn.test(test_loader)\n",
        "print('Test set: Avg. loss: {:.4f}, Accuracy: {}/{} ({:.0f}%)'.format(\n",
        "        test_loss, correct, len(test_loader.dataset),\n",
        "        100 * accuracy))"
      ]
    },
    {
      "cell_type": "markdown",
      "metadata": {},
      "source": [
        "---\n",
        "**Optional**\n",
        "\n",
        "Passen Sie das Modell f\u00fcr die Klassifikation aller MNIST Klassen an und versuchen Sie m\u00f6glichst gute Ergebnisse auf dem Testdatensatz zu erreichen.  \n",
        "Implemnetieren Sie beispielsweise das LeNet5.\n",
        "Wenn Sie eine GPU zur Verf\u00fcgung haben, k\u00f6nnen Sie auch andere (gr\u00f6\u00dfere) [Architekturen aus PyTorch laden](https://pytorch.org/vision/stable/models.html#classification).\n",
        "\n",
        "Experimentieren Sie mit anderen [Datens\u00e4tzen](https://pytorch.org/vision/stable/datasets.html)."
      ]
    }
  ],
  "metadata": {
    "interpreter": {
      "hash": "916dbcbb3f70747c44a77c7bcd40155683ae19c65e1c03b4aa3499c5328201f1"
    },
    "kernelspec": {
      "display_name": "Python 3",
      "language": "python",
      "name": "python3"
    },
    "language_info": {
      "codemirror_mode": {
        "name": "ipython",
        "version": 3
      },
      "file_extension": ".py",
      "mimetype": "text/x-python",
      "name": "python",
      "nbconvert_exporter": "python",
      "pygments_lexer": "ipython3",
      "version": "3.8.10"
    }
  },
  "nbformat": 4,
  "nbformat_minor": 4
}